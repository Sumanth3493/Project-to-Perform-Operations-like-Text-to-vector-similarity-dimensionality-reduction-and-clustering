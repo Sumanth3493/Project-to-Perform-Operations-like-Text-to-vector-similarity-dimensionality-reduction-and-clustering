{
 "cells": [
  {
   "cell_type": "code",
   "execution_count": 76,
   "metadata": {
    "scrolled": true
   },
   "outputs": [
    {
     "name": "stdout",
     "output_type": "stream",
     "text": [
      "Requirement already satisfied: twitterscraper in c:\\users\\sumanth\\anaconda3\\lib\\site-packages (1.6.1)\n",
      "Requirement already satisfied: lxml in c:\\users\\sumanth\\anaconda3\\lib\\site-packages (from twitterscraper) (4.3.2)\n",
      "Requirement already satisfied: requests in c:\\users\\sumanth\\anaconda3\\lib\\site-packages (from twitterscraper) (2.21.0)\n",
      "Requirement already satisfied: bs4 in c:\\users\\sumanth\\anaconda3\\lib\\site-packages (from twitterscraper) (0.0.1)\n",
      "Requirement already satisfied: coala-utils~=0.5.0 in c:\\users\\sumanth\\anaconda3\\lib\\site-packages (from twitterscraper) (0.5.1)\n",
      "Requirement already satisfied: billiard in c:\\users\\sumanth\\anaconda3\\lib\\site-packages (from twitterscraper) (3.6.3.0)\n",
      "Requirement already satisfied: certifi>=2017.4.17 in c:\\users\\sumanth\\anaconda3\\lib\\site-packages (from requests->twitterscraper) (2019.3.9)\n",
      "Requirement already satisfied: idna<2.9,>=2.5 in c:\\users\\sumanth\\anaconda3\\lib\\site-packages (from requests->twitterscraper) (2.8)\n",
      "Requirement already satisfied: urllib3<1.25,>=1.21.1 in c:\\users\\sumanth\\anaconda3\\lib\\site-packages (from requests->twitterscraper) (1.24.1)\n",
      "Requirement already satisfied: chardet<3.1.0,>=3.0.2 in c:\\users\\sumanth\\anaconda3\\lib\\site-packages (from requests->twitterscraper) (3.0.4)\n",
      "Requirement already satisfied: beautifulsoup4 in c:\\users\\sumanth\\anaconda3\\lib\\site-packages (from bs4->twitterscraper) (4.7.1)\n",
      "Requirement already satisfied: soupsieve>=1.2 in c:\\users\\sumanth\\anaconda3\\lib\\site-packages (from beautifulsoup4->bs4->twitterscraper) (1.8)\n",
      "Note: you may need to restart the kernel to use updated packages.\n"
     ]
    }
   ],
   "source": [
    "pip install twitterscraper"
   ]
  },
  {
   "cell_type": "code",
   "execution_count": null,
   "metadata": {},
   "outputs": [],
   "source": []
  },
  {
   "cell_type": "markdown",
   "metadata": {},
   "source": [
    "# I am using the below Libraries to perform all operations indicated in ICA2 and ICA3"
   ]
  },
  {
   "cell_type": "code",
   "execution_count": 77,
   "metadata": {},
   "outputs": [],
   "source": [
    "from twitter_scraper import get_tweets\n",
    "from nltk.tokenize import word_tokenize\n",
    "from nltk.tokenize import wordpunct_tokenize\n",
    "from nltk.tokenize import TweetTokenizer\n",
    "from nltk.tokenize import regexp_tokenize\n",
    "from string import punctuation\n",
    "from nltk.corpus import stopwords\n",
    "from nltk.stem import PorterStemmer,SnowballStemmer\n",
    "\n",
    "\n"
   ]
  },
  {
   "cell_type": "markdown",
   "metadata": {},
   "source": [
    "# Extracting Top 10 tweets\n",
    "\n",
    "In order to Increase the clustering Area and the density of the cluster, I am displaying 10 pages of tweets for better visibility of each Individual clusters. "
   ]
  },
  {
   "cell_type": "code",
   "execution_count": 78,
   "metadata": {},
   "outputs": [],
   "source": [
    "text1=[]\n",
    "for tweet in get_tweets('twitter', pages=10):\n",
    "         text1.append(tweet['text'])"
   ]
  },
  {
   "cell_type": "code",
   "execution_count": 79,
   "metadata": {},
   "outputs": [
    {
     "data": {
      "text/plain": [
       "['Take us with you, @NASAPersevere',\n",
       " 'Who wants to be transported off this planet?',\n",
       " 'Like for liftoff! #CountdownToMars pic.twitter.com/yLe331pHfY',\n",
       " 'You may be unable to Tweet or reset your password while we review and address this incident.',\n",
       " 'Slide into those DMs without clicking away from your timeline.\\n\\nRolling out on web. pic.twitter.com/BdaeYoyPu2',\n",
       " 'You can have an edit button when everyone wears a mask',\n",
       " 'Good news and bad news: \\n\\n2020 is half over',\n",
       " ' Oakland\\n @YoliZama pic.twitter.com/lcGDLzAJIn',\n",
       " ' New York City\\n @Afrikkana95 pic.twitter.com/tEfs27p7xu',\n",
       " ' Chicago\\n @JoshuaKissi pic.twitter.com/ZeD3XvJUbX',\n",
       " ' Philadelphia\\n @Imani_Barbarin pic.twitter.com/ZRDUipsu38',\n",
       " ' Louisville\\n @itsbarrrrett pic.twitter.com/Vk4vDeuAqb',\n",
       " ' Atlanta\\n @BerniceKing pic.twitter.com/83upyVnwIS',\n",
       " ' Minneapolis\\n @FredTJoseph pic.twitter.com/lNTOkyguG1',\n",
       " 'Juneteenth is a celebration. It’s about our freedom. And within that freedom is our joy.\\n\\n#BlackJoy is a form of resistance. pic.twitter.com/yyVBdAM0nf',\n",
       " \"Juneteenth represents freedom, emancipation, and liberation.\\n\\nTo celebrate #Juneteenth is to know Black history. It's to know American history. And it’s to understand the work doesn’t stop here.\\n\\nHere are voices and resources to keep you going. And here’s why... pic.twitter.com/NsNi6aFKmz\",\n",
       " 'pic.twitter.com/dW21f1XQvy',\n",
       " 'Today is #Juneteenth\\xa0\\n\\nWe’re honored to have @opalayo, one of the three Black women who co-founded #BlackLivesMatter, speak on the meaning of this day, this moment, and where we go from here. pic.twitter.com/0XwuQXM0tS',\n",
       " 'Add new voices and conversations to your Timeline using Lists.\\n\\nYou can now:\\n make a List\\n discover new Lists\\n follow a List\\n Tweet a List pic.twitter.com/7xhwMXRUWG',\n",
       " 'Tweets with audio are rolling out on iOS and we only have one thing to say about it pic.twitter.com/CZvQC1fo1W',\n",
       " 'You can Tweet a Tweet. But now you can Tweet your voice!\\n\\nRolling out today on iOS, you can now record and Tweet with audio. pic.twitter.com/jezRmh1dkD',\n",
       " 'stay loud',\n",
       " 'There\\'s power in healing.\\nThere\\'s power in our voices.\\nThere\\'s power in our platforms.\\n\\nWe\\'ve curated \"Thread of Threads: #BlackLivesMatter\" —an ongoing Moment that will center and amplify Black voices, provide resources, and uplift. https://twitter.com/i/events/1270493073512906753\\xa0…',\n",
       " 'Both Twitter and Square are making #Juneteenth (June 19th) a company holiday in the US, forevermore. A day for celebration, education, and connection.\\n\\nhttp://www.juneteenth.com/history.htm\\xa0',\n",
       " 'We are bold.\\nWe are brave.\\nWe are empowered.\\n\\nWe are #AlwaysProud pic.twitter.com/LVq2ZQLWS0',\n",
       " 'If you find yourself in need of help, here is a collection of resources and advice designed to support your mental health.\\n\\nBlack mental health matters: Resources and self-care tips for overwhelming times. https://twitter.com/i/events/1267529857069510656\\xa0…',\n",
       " 'To follow what’s happening in real time, tap the  located at the top right of your Home timeline to change from seeing top Tweets to latest Tweets first.',\n",
       " 'Racism does not adhere to social distancing.\\n\\nAmid the already growing fear and uncertainty around the pandemic, this week has again brought attention to something perhaps more pervasive: the long-standing racism and injustices faced by Black and Brown people on a daily basis. pic.twitter.com/8zKPlDnacY',\n",
       " 'u up? @NASA',\n",
       " 'Reply if there’s a better app',\n",
       " 'Testing, testing...\\n\\nA new way to have a convo with exactly who you want. We’re starting with a small % globally, so keep your  out to see it in action. pic.twitter.com/pV53mvjAVT',\n",
       " 'wine.',\n",
       " 'Don’t miss the Tweets about your Tweet. \\n\\nNow on iOS, you can see Retweets with comments all in one place. pic.twitter.com/oanjZfzC6y',\n",
       " \"Nothing can cancel Mother's Day.\",\n",
       " 'Mom Tweets are the best Tweets pic.twitter.com/nqh6UiLTFS',\n",
       " 'what is time',\n",
       " 'DMs are fine. She just hasn’t responded.',\n",
       " 'weird dream',\n",
       " '“shared a tweet with you” >>>>>',\n",
       " \"who's up?\",\n",
       " 'Ahhhhfdsjkhfjskhfjkldshfkljsdhfkjdhfkjlshdfkljsdhfjkdshfjksdhfjdksfhjkdshfjsdhfjkshfjksdfhjksdhfjksdfhjkdsfh\\n\\nyour turn.',\n",
       " 'You need a haircut. \\nSend us a selfie.',\n",
       " \"It's Tuesday\",\n",
       " 'Twitter https://twitter.com/chancetherapper/status/1250133538525102083\\xa0…',\n",
       " 'Stretchhhhhhhhhhhhhhhhhhhhhhhhhhhhhhhhhhhhhhhhhhhhhhhhhhhhhhhhhhhhhhhhhhhhhhhhhhhhhhhhhhhhhhhhhhhhhhhhhhhhhhhhhhhhhhhhhhhhhhhhhhhhhhhhhhhhhhhhhhhhhhhhhhhhhhhhhhhhhhhhhhhhhhhhhhhhhhhhhhhhhhhhhhhhhhhhhhhhhhhhhhhhhhhhhhhhhhhhhhhhhhhhhhhhhhhhhhhhhhhhhhhhhhhhhhhhhhhhhhhhhhhhhhhhhhhhhh',\n",
       " 'Send pet pics',\n",
       " 'Tagging some friends to help spread the gratitude @shakira @MariahCarey @Zionwilliamson @rickygervais @liamgallagher @SofiaVergara @CP3 @MeekMill @samsmith @De11eDonne @TheEllenShow @mPinoe',\n",
       " 'Tweet some  for all the amazing healthcare workers around the world.\\n\\n #WorldHealthDay',\n",
       " 'For the latest information, follow the @WHO on Twitter and this list of official local health organizations around the world. \\nhttps://twitter.com/i/lists/1235273855331176448\\xa0…',\n",
       " 'What are some good mental health tips? https://twitter.com/WHO/status/1247538430373793793\\xa0…',\n",
       " 'When should we expect a vaccine? https://twitter.com/WHO/status/1247538237565894660\\xa0…',\n",
       " 'Are face masks effective? https://twitter.com/WHO/status/1247530375766663170\\xa0…',\n",
       " 'Can normal laundry washing get rid of #COVID19? https://twitter.com/WHO/status/1247493431292805120\\xa0…',\n",
       " 'Will #COVID19 die down during the warmer months? https://twitter.com/WHO/status/1247491892163608576\\xa0…',\n",
       " 'What supplies should everyone have on hand if areas go into lockdown? https://twitter.com/WHO/status/1247536386149773314\\xa0…',\n",
       " 'Is it ok to exercise outside? https://twitter.com/WHO/status/1247489501582241792\\xa0…',\n",
       " 'What does physical distancing really mean? https://twitter.com/WHO/status/1247491570682736640\\xa0…',\n",
       " 'Where are the tests? https://twitter.com/WHO/status/1247535487373336577\\xa0…',\n",
       " \"Can you still have #COVID19 if you don't have symptoms? https://twitter.com/WHO/status/1247535036267499528\\xa0…\",\n",
       " 'How is #COVID19 treated? https://twitter.com/WHO/status/1247534697556500483\\xa0…',\n",
       " 'Can young people get infected? https://twitter.com/WHO/status/1247533934381920258\\xa0…',\n",
       " 'What are symptoms of #COVID19 and when should you get treatment versus stay home? https://twitter.com/WHO/status/1247533560057085952\\xa0…',\n",
       " 'How do you prevent #COVID19 and keep your family safe? https://twitter.com/WHO/status/1247525636073082883\\xa0…',\n",
       " 'Over the past few weeks, there have been more than 6 million questions Tweeted about coronavirus/COVID-19. For #WorldHealthDay, we partnered with the @WHO to provide answers to some of your most asked questions. \\n\\nSee the answers',\n",
       " 'Mood check. GIFs only.',\n",
       " 'It’s not March.',\n",
       " ' #NationalDoctorsDay',\n",
       " 'Who needs something? \\nWho can give something? \\n\\n#TwitterDoYourThing',\n",
       " 'THANK YOU — wow I owe you\\n\\nThank you! — literally, thanks\\n\\nTy — whatever\\n\\nThx — for nothing',\n",
       " 'Not today, men.',\n",
       " 'The women in your life who deserve a shout out',\n",
       " ' We’re stepping up internal & external efforts to protect the public conversation & help people find authoritative health information on #Coronavirus / Covid-19. https://blog.twitter.com/en_us/topics/company/2020/covid-19.html\\xa0…',\n",
       " 'Got an Android? You’re now in it to pin it. https://twitter.com/Twitter/status/1143624280401502208?s=20\\xa0…',\n",
       " 'take care of each other',\n",
       " \"It’s Women’s History Month and #InternationalWomensDay is right around the corner. With every woman, there's unshakable strength, a voice that deserves to be heard, and power.\\n\\nLet’s celebrate us\\nLet’s celebrate who we are\\nLet’s celebrate our intersections\\n \\nCelebrate #EveryWoman pic.twitter.com/9wXXfj1k1z\",\n",
       " 'Ask the magic Twitter ball ',\n",
       " 'We need a new header',\n",
       " 'you know what to do https://twitter.com/cyberadam26/status/1232652394498068481\\xa0…',\n",
       " \"It's not Mercury, it's you\",\n",
       " 'Now you can add a Tweet to one you already Tweeted, faster! pic.twitter.com/j3ktAN6t5o',\n",
       " 'we LIKE like you',\n",
       " 'If they don’t get Twitter, they don’t get you',\n",
       " 'When @Twitter sends you a screenshot of your tweet on an actual sign in New York in the 8th Ave & 14th St. Subway Station you die of happiness!! #Lovetwitter pic.twitter.com/NTl5mZ7naS',\n",
       " 'kissing IS hooking up',\n",
       " 'ok it worked',\n",
       " 'test',\n",
       " \"Black History Month is HERE! \\n\\nThis year, we’re also celebrating the pride and joy of our present! It's about connecting and celebrating what it means to be Black right now and amplifying our voices.  \\n\\nCelebrate the culture with #LoveToSeeIt! pic.twitter.com/6hqBdeiLVC\",\n",
       " \"Yes, it's still January\",\n",
       " 'One more Tweet and then it’s bedtime',\n",
       " \"don't forget to moisturize\",\n",
       " 'I never thought it would happen but yassss it happened  @Twitter in my DM. I never esperredittt pic.twitter.com/WAd3j0n4ep',\n",
       " \"When you want to DM someone a Tweet but haven't answered their text\",\n",
       " 'sliding into your DMs like       ',\n",
       " 'twting int hte cold',\n",
       " \"Don't drink and Tweet\",\n",
       " 'Agreed',\n",
       " \"return to work like you're Beyoncé's assistant\",\n",
       " 'Don’t be funnier than me in my replies or I’ll delete the whole tweet. Now no one gets to laugh',\n",
       " 'Scrolling through Twitter is cardio',\n",
       " 'New decade, drink water',\n",
       " 'woooooooohooooooo!',\n",
       " 'My brother has tweet notifications on for me and everytime I tweet he reads it out loud and the whole family boos',\n",
       " 'Hello. We will be out of the office until [date of return]. During this period we will have limited access to email. \\n\\nTweet us.',\n",
       " 'learn the alphabets through 2019 twitter memes \\n\\na thread:',\n",
       " \"Long URLs, no longer. Starting today, when you share a list on Twitter, it'll have an image instead of a URL on iOS and Android. Here’s ours. Your turn.\\n\\nhttps://twtr.cm/36UN4CB\\xa0\",\n",
       " 'not a bad way to end the decade pic.twitter.com/WuEjTFfoqj',\n",
       " 'Twitter put my tweet on a billboard in BUCKHEAD of all places!!!!! i can not wait to go physically see this for myself today! i’m literally about to cry. This has made being on Twitter for 10 Years so much more worth it pic.twitter.com/A8URlIesPs',\n",
       " ' https://twitter.com/raqueIsd/status/1156813717998379010\\xa0… pic.twitter.com/lEq6dtdZbz',\n",
       " 'The one person you wish would follow you',\n",
       " 'Give the gift of GIFs. You can now upload your iOS Live Photos as GIFs anywhere you upload photos on Twitter. pic.twitter.com/D8TIfsBwyd',\n",
       " ' https://twitter.com/MomentsOfDecade/status/1200350880450650112\\xa0…',\n",
       " 'https://twitter.com/piIIowhugs/status/1102965189392113665\\xa0…',\n",
       " 'https://twitter.com/Advil/status/1097218169062731776\\xa0…',\n",
       " 'https://twitter.com/GretaThunberg/status/1175198609660399617\\xa0…',\n",
       " 'https://twitter.com/amatowho/status/1200752458429030400\\xa0…',\n",
       " 'https://twitter.com/RealGDT/status/1132004010678935552\\xa0…',\n",
       " '\\nhttps://twitter.com/ttomholIand/status/1116801121497096193\\xa0…',\n",
       " '\\nhttps://twitter.com/dsmom58/status/1189640501122740224\\xa0…',\n",
       " '÷ https://twitter.com/jik99k/status/1155598050959745026\\xa0…',\n",
       " 'https://twitter.com/mrmehoso11/status/1178606509179060225\\xa0…',\n",
       " 'https://twitter.com/theestallion/status/1151528790906081281\\xa0…',\n",
       " 'https://twitter.com/sixthformpoet/status/1137658720698228736\\xa0…',\n",
       " '\\nhttps://twitter.com/Arpwel/status/1126594900055793671\\xa0…',\n",
       " 'https://twitter.com/Jennifer__Brett/status/1131298044010483712\\xa0…',\n",
       " 'https://twitter.com/rklau/status/1179965234624286721\\xa0…',\n",
       " 'https://twitter.com/melissablake/status/1170481393673166849\\xa0…',\n",
       " 'https://twitter.com/alamanecer/status/1145075584701104128\\xa0…',\n",
       " 'https://twitter.com/CruzKayne/status/1196646190709907456\\xa0…',\n",
       " 'https://twitter.com/jerrydoubles/status/1148751083306651648\\xa0…',\n",
       " 'Favorite Tweets of the year? \\n \\nWe’ll start. Here’s our 19 for 2019 \\n#ThisHappened',\n",
       " 'We need to talk',\n",
       " 'Hello https://twitter.com/tweets_by_tina/status/1191926984957407232\\xa0…',\n",
       " 'We’re thankful for you. And you. And you and you and you and you and you and you and you and you and you and you and you and you and you and you and you and you and you and you and you and you and you and you and you and you and you and you and you and you and you and you and you',\n",
       " 'That color looks great on you',\n",
       " 'Starting today, you can now hide replies to your Tweets. Out of sight, out of mind. pic.twitter.com/0Cfe4NMVPj',\n",
       " 'I’m super private which is why I share nothing with anyone I know and everything on Twitter',\n",
       " 'you: \\nyou on Twitter: ',\n",
       " 'hi',\n",
       " 'Topics: now available for both Android and web.',\n",
       " 'forcing ur homie to look at a good tweet u made pic.twitter.com/7kKX09nDb9',\n",
       " 'anytime I meet someone who  says “I follow you on Twitter” my heart stops for a full beat like bro that’s my diary please respect my privacy',\n",
       " 'Full moon, Tweet carefully',\n",
       " 'Dear Diary,',\n",
       " 'Hot takes? Always. Hot topics? Brand new.\\n\\nNow you can follow specific topics to discover the Tweets you care about. pic.twitter.com/3tVBRFuTYd',\n",
       " 'me: *closes twitter*\\nmy brain: so what now?\\nme: *opens twitter*',\n",
       " 'spooky vibe check',\n",
       " 'Sharing Tweets in DMs is our love language. Today, for Android users, we’re making that easier.',\n",
       " 'Welcome to the dark side, Android users. You can now go lights out on Twitter. pic.twitter.com/RpvstZvdnr',\n",
       " 'Me: Damn i really need to do my essay \\n\\nAlso me: pic.twitter.com/RnUECXuKqM',\n",
       " 'Me laughing on Twitter at 3am when I should be asleep pic.twitter.com/Qewadtmcsb',\n",
       " 'Remember your first Tweet?\\n\\nWe do!',\n",
       " ' Return of the Mac. ',\n",
       " 'It’s October 4th\\n\\nReply if you need a spooky name\\nLike if your Twitter name is already ghastly\\nRT if you respect and revere candy corn',\n",
       " 'Get your search on. DM search is rolling out to everyone on iOS today.',\n",
       " \"Let's settle this. What is the GREATEST Tweet?\",\n",
       " 'extrovert in the tweets, introvert in the streets',\n",
       " 'On our list? Make lists even better for you! \\n\\nNow on iOS, you can pin up to five lists, rearrange them, and swipe to access from home. pic.twitter.com/gNdfNE1DCl',\n",
       " 'My friends showing me a meme I saw on twitter 2 months ago. https://twitter.com/BriaNorwood/status/1174151863043842048/video/1\\xa0…',\n",
       " 'Look up!',\n",
       " 'how i flirt w a girl:\\n\\n         █          \\u3000\\u3000\\n         █\\u3000        \\n         █\\u3000        \\n         █\\u3000                    ＿\\n\\n  liking her        actually talking\\n    tweets                  to her',\n",
       " 'how people act when your twitter is in light mode https://twitter.com/aIcohoIe/status/1173082305990205440/video/1\\xa0…',\n",
       " 'Uno!',\n",
       " 'Retweet this tweet to see this tweet on your twitter when you tweet.',\n",
       " 'Unpin that one viral tweet you got in 2014 beloved. Let it go.',\n",
       " 'It’s all about the details. Now you can rearrange your photos while writing a Tweet. pic.twitter.com/mllwmPb6dx',\n",
       " 'Who likes candy?? ',\n",
       " 'pic.twitter.com/QxEDfqYPE2',\n",
       " 'pic.twitter.com/KQM2aMbpj9',\n",
       " 'Just found out you can use an emoji to find a gif on twitter (from @1WiS3_Guy) and I’m shooketh. I know you were trying to go to sleep and all, but... pic.twitter.com/82VCBqcKWi',\n",
       " 'hugs!',\n",
       " 'This is it. \\nThis is the tweet. pic.twitter.com/XLyG54XyA5',\n",
       " \"The Joker trailer gave Twitter a powerful weapon that I imagine I'll be seeing a lot in the near future pic.twitter.com/tLFw6FpHgF\",\n",
       " 'Dear twitter: who is the kindest person you know on this app? I want to follow them. \\n\\nNo other qualifiers apply. Just the kindest person you know.',\n",
       " 'you are right',\n",
       " 'my mom just said she wants me to help her make a twitter account and she wants to follow me ... pic.twitter.com/kjEvzHnXVz',\n",
       " 'weeeeeeeeeee',\n",
       " 'anyone got a charger?',\n",
       " 'wanting ur bf      not wanting ur bf\\non twitter              on twitter so u\\nso u can laugh      can use him for \\nat tweets together      content\\n    ( •_•)                           (•_• ) \\n      ( ง )ง                        ୧( ୧ )\\n      /︶\\\\                           /︶\\\\',\n",
       " 'hi John!',\n",
       " 'me reading my own twitter drafts that will never see the light of day pic.twitter.com/mW51N75F1W',\n",
       " 'Retweet for night mode\\n\\nLike for day mode',\n",
       " 'Unwanted messages aren’t fun. So we’re testing a filter in your DM requests to keep those out of sight, out of mind. pic.twitter.com/Sg5idjdeVv',\n",
       " 'me explaining twitter humor to my friends that aren’t on twitter pic.twitter.com/uzpRZszp29',\n",
       " 'appreciation Tweet ',\n",
       " 'Soul searching? Hard. DM searching? Easy! Go ahead and try out the new DM search bar. We’re testing it out on iOS and web with your most recent DMs. pic.twitter.com/vwGlBjz4B5',\n",
       " 'Happy Birthday',\n",
       " 'You know when someone’s phone goes off in the theater? Or in a presentation? Or at the movies? Don’t be that person. \\n\\nWe’re testing a way to temporarily snooze notifications on Android, just in case you go viral at an inconvenient time. pic.twitter.com/tSuEjlqWDs',\n",
       " 'You probably have notifications on for your must-follows. Now you can get notifications when there’s a new reply to a Tweet you’re interested in! We’re testing this on iOS and Android now. pic.twitter.com/MabdFoItxc',\n",
       " 'WHAT’S HAPPENING, @Twitter?! \\n\\nsino nasa states someone track down my billboard lmao pic.twitter.com/1EjWhplWTU',\n",
       " \"Oh, that's pretty cool. My apologies to NYC folks who are overwhelmed by this fabulousness. \\n\\nThanks, @Twitter! pic.twitter.com/qwSq9s3rKC\",\n",
       " '10²+(5x16)÷10+(43x4)',\n",
       " \"Balance the likes and retweets \\nDon't ruin it pic.twitter.com/7qDTastVGr\",\n",
       " 'Take a breather, we’ll still be here',\n",
       " '“I’m gonna go to bed early tonight”\\n\\nMe on twitter at 3 am: https://twitter.com/negIigence/status/1155260190809382918\\xa0…',\n",
       " 'OMG MY CARROTS ARE FAMOUS ! pic.twitter.com/0dild63GcZ']"
      ]
     },
     "execution_count": 79,
     "metadata": {},
     "output_type": "execute_result"
    }
   ],
   "source": [
    "text1"
   ]
  },
  {
   "cell_type": "markdown",
   "metadata": {},
   "source": [
    "# I am now performing the process of Text/Tweet CLEANING\n",
    "\n",
    "In this Step I perform the Following Operations:\n",
    "1) Remove punctuations\n",
    "2) Tokenization - Converting a sentence into list of words\n",
    "3) Remove stopwords\n",
    "4) Lammetization/stemming - Tranforming any form of a word to its root word"
   ]
  },
  {
   "cell_type": "code",
   "execution_count": 80,
   "metadata": {},
   "outputs": [],
   "source": [
    "import re\n",
    "for i in range(len(text1)):\n",
    "    text1[i] = text1[i].lower()\n",
    "    text1[i] = re.sub('[^a-z]',' ',text1[i])"
   ]
  },
  {
   "cell_type": "code",
   "execution_count": 81,
   "metadata": {},
   "outputs": [
    {
     "data": {
      "text/plain": [
       "['take us with you   nasapersevere',\n",
       " 'who wants to be transported off this planet ',\n",
       " 'like for liftoff   countdowntomars pic twitter com yle   phfy',\n",
       " 'you may be unable to tweet or reset your password while we review and address this incident ',\n",
       " 'slide into those dms without clicking away from your timeline   rolling out on web  pic twitter com bdaeyoypu ',\n",
       " 'you can have an edit button when everyone wears a mask',\n",
       " 'good news and bad news         is half over',\n",
       " ' oakland   yolizama pic twitter com lcgdlzajin',\n",
       " ' new york city   afrikkana   pic twitter com tefs  p xu',\n",
       " ' chicago   joshuakissi pic twitter com zed xvjubx',\n",
       " ' philadelphia   imani barbarin pic twitter com zrduipsu  ',\n",
       " ' louisville   itsbarrrrett pic twitter com vk vdeuaqb',\n",
       " ' atlanta   berniceking pic twitter com   upyvnwis',\n",
       " ' minneapolis   fredtjoseph pic twitter com lntokygug ',\n",
       " 'juneteenth is a celebration  it s about our freedom  and within that freedom is our joy    blackjoy is a form of resistance  pic twitter com yyvbdam nf',\n",
       " 'juneteenth represents freedom  emancipation  and liberation   to celebrate  juneteenth is to know black history  it s to know american history  and it s to understand the work doesn t stop here   here are voices and resources to keep you going  and here s why    pic twitter com nsni afkmz',\n",
       " 'pic twitter com dw  f xqvy',\n",
       " 'today is  juneteenth   we re honored to have  opalayo  one of the three black women who co founded  blacklivesmatter  speak on the meaning of this day  this moment  and where we go from here  pic twitter com  xwuqxm ts',\n",
       " 'add new voices and conversations to your timeline using lists   you can now   make a list  discover new lists  follow a list  tweet a list pic twitter com  xhwmxruwg',\n",
       " 'tweets with audio are rolling out on ios and we only have one thing to say about it pic twitter com czvqc fo w',\n",
       " 'you can tweet a tweet  but now you can tweet your voice   rolling out today on ios  you can now record and tweet with audio  pic twitter com jezrmh dkd',\n",
       " 'stay loud',\n",
       " 'there s power in healing  there s power in our voices  there s power in our platforms   we ve curated  thread of threads   blacklivesmatter   an ongoing moment that will center and amplify black voices  provide resources  and uplift  https   twitter com i events                      ',\n",
       " 'both twitter and square are making  juneteenth  june   th  a company holiday in the us  forevermore  a day for celebration  education  and connection   http   www juneteenth com history htm ',\n",
       " 'we are bold  we are brave  we are empowered   we are  alwaysproud pic twitter com lvq zqlws ',\n",
       " 'if you find yourself in need of help  here is a collection of resources and advice designed to support your mental health   black mental health matters  resources and self care tips for overwhelming times  https   twitter com i events                      ',\n",
       " 'to follow what s happening in real time  tap the  located at the top right of your home timeline to change from seeing top tweets to latest tweets first ',\n",
       " 'racism does not adhere to social distancing   amid the already growing fear and uncertainty around the pandemic  this week has again brought attention to something perhaps more pervasive  the long standing racism and injustices faced by black and brown people on a daily basis  pic twitter com  zkpldnacy',\n",
       " 'u up   nasa',\n",
       " 'reply if there s a better app',\n",
       " 'testing  testing     a new way to have a convo with exactly who you want  we re starting with a small   globally  so keep your  out to see it in action  pic twitter com pv  mvjavt',\n",
       " 'wine ',\n",
       " 'don t miss the tweets about your tweet    now on ios  you can see retweets with comments all in one place  pic twitter com oanjzfzc y',\n",
       " 'nothing can cancel mother s day ',\n",
       " 'mom tweets are the best tweets pic twitter com nqh uiltfs',\n",
       " 'what is time',\n",
       " 'dms are fine  she just hasn t responded ',\n",
       " 'weird dream',\n",
       " ' shared a tweet with you       ',\n",
       " 'who s up ',\n",
       " 'ahhhhfdsjkhfjskhfjkldshfkljsdhfkjdhfkjlshdfkljsdhfjkdshfjksdhfjdksfhjkdshfjsdhfjkshfjksdfhjksdhfjksdfhjkdsfh  your turn ',\n",
       " 'you need a haircut   send us a selfie ',\n",
       " 'it s tuesday',\n",
       " 'twitter https   twitter com chancetherapper status                      ',\n",
       " 'stretchhhhhhhhhhhhhhhhhhhhhhhhhhhhhhhhhhhhhhhhhhhhhhhhhhhhhhhhhhhhhhhhhhhhhhhhhhhhhhhhhhhhhhhhhhhhhhhhhhhhhhhhhhhhhhhhhhhhhhhhhhhhhhhhhhhhhhhhhhhhhhhhhhhhhhhhhhhhhhhhhhhhhhhhhhhhhhhhhhhhhhhhhhhhhhhhhhhhhhhhhhhhhhhhhhhhhhhhhhhhhhhhhhhhhhhhhhhhhhhhhhhhhhhhhhhhhhhhhhhhhhhhhhhhhhhhhh',\n",
       " 'send pet pics',\n",
       " 'tagging some friends to help spread the gratitude  shakira  mariahcarey  zionwilliamson  rickygervais  liamgallagher  sofiavergara  cp   meekmill  samsmith  de  edonne  theellenshow  mpinoe',\n",
       " 'tweet some  for all the amazing healthcare workers around the world     worldhealthday',\n",
       " 'for the latest information  follow the  who on twitter and this list of official local health organizations around the world   https   twitter com i lists                      ',\n",
       " 'what are some good mental health tips  https   twitter com who status                      ',\n",
       " 'when should we expect a vaccine  https   twitter com who status                      ',\n",
       " 'are face masks effective  https   twitter com who status                      ',\n",
       " 'can normal laundry washing get rid of  covid    https   twitter com who status                      ',\n",
       " 'will  covid   die down during the warmer months  https   twitter com who status                      ',\n",
       " 'what supplies should everyone have on hand if areas go into lockdown  https   twitter com who status                      ',\n",
       " 'is it ok to exercise outside  https   twitter com who status                      ',\n",
       " 'what does physical distancing really mean  https   twitter com who status                      ',\n",
       " 'where are the tests  https   twitter com who status                      ',\n",
       " 'can you still have  covid   if you don t have symptoms  https   twitter com who status                      ',\n",
       " 'how is  covid   treated  https   twitter com who status                      ',\n",
       " 'can young people get infected  https   twitter com who status                      ',\n",
       " 'what are symptoms of  covid   and when should you get treatment versus stay home  https   twitter com who status                      ',\n",
       " 'how do you prevent  covid   and keep your family safe  https   twitter com who status                      ',\n",
       " 'over the past few weeks  there have been more than   million questions tweeted about coronavirus covid     for  worldhealthday  we partnered with the  who to provide answers to some of your most asked questions    see the answers',\n",
       " 'mood check  gifs only ',\n",
       " 'it s not march ',\n",
       " '  nationaldoctorsday',\n",
       " 'who needs something   who can give something     twitterdoyourthing',\n",
       " 'thank you   wow i owe you  thank you    literally  thanks  ty   whatever  thx   for nothing',\n",
       " 'not today  men ',\n",
       " 'the women in your life who deserve a shout out',\n",
       " ' we re stepping up internal   external efforts to protect the public conversation   help people find authoritative health information on  coronavirus   covid     https   blog twitter com en us topics company      covid    html  ',\n",
       " 'got an android  you re now in it to pin it  https   twitter com twitter status                     s     ',\n",
       " 'take care of each other',\n",
       " 'it s women s history month and  internationalwomensday is right around the corner  with every woman  there s unshakable strength  a voice that deserves to be heard  and power   let s celebrate us let s celebrate who we are let s celebrate our intersections   celebrate  everywoman pic twitter com  wxxfj k z',\n",
       " 'ask the magic twitter ball ',\n",
       " 'we need a new header',\n",
       " 'you know what to do https   twitter com cyberadam   status                      ',\n",
       " 'it s not mercury  it s you',\n",
       " 'now you can add a tweet to one you already tweeted  faster  pic twitter com j ktan t o',\n",
       " 'we like like you',\n",
       " 'if they don t get twitter  they don t get you',\n",
       " 'when  twitter sends you a screenshot of your tweet on an actual sign in new york in the  th ave     th st  subway station you die of happiness    lovetwitter pic twitter com ntl mz nas',\n",
       " 'kissing is hooking up',\n",
       " 'ok it worked',\n",
       " 'test',\n",
       " 'black history month is here    this year  we re also celebrating the pride and joy of our present  it s about connecting and celebrating what it means to be black right now and amplifying our voices     celebrate the culture with  lovetoseeit  pic twitter com  hqbdeilvc',\n",
       " 'yes  it s still january',\n",
       " 'one more tweet and then it s bedtime',\n",
       " 'don t forget to moisturize',\n",
       " 'i never thought it would happen but yassss it happened   twitter in my dm  i never esperredittt pic twitter com wad j n ep',\n",
       " 'when you want to dm someone a tweet but haven t answered their text',\n",
       " 'sliding into your dms like       ',\n",
       " 'twting int hte cold',\n",
       " 'don t drink and tweet',\n",
       " 'agreed',\n",
       " 'return to work like you re beyonc  s assistant',\n",
       " 'don t be funnier than me in my replies or i ll delete the whole tweet  now no one gets to laugh',\n",
       " 'scrolling through twitter is cardio',\n",
       " 'new decade  drink water',\n",
       " 'woooooooohooooooo ',\n",
       " 'my brother has tweet notifications on for me and everytime i tweet he reads it out loud and the whole family boos',\n",
       " 'hello  we will be out of the office until  date of return   during this period we will have limited access to email    tweet us ',\n",
       " 'learn the alphabets through      twitter memes   a thread ',\n",
       " 'long urls  no longer  starting today  when you share a list on twitter  it ll have an image instead of a url on ios and android  here s ours  your turn   https   twtr cm   un cb ',\n",
       " 'not a bad way to end the decade pic twitter com wuejtffoqj',\n",
       " 'twitter put my tweet on a billboard in buckhead of all places      i can not wait to go physically see this for myself today  i m literally about to cry  this has made being on twitter for    years so much more worth it pic twitter com a urliesps',\n",
       " ' https   twitter com raqueisd status                       pic twitter com leq dtdzbz',\n",
       " 'the one person you wish would follow you',\n",
       " 'give the gift of gifs  you can now upload your ios live photos as gifs anywhere you upload photos on twitter  pic twitter com d tifsbwyd',\n",
       " ' https   twitter com momentsofdecade status                      ',\n",
       " 'https   twitter com piiiowhugs status                      ',\n",
       " 'https   twitter com advil status                      ',\n",
       " 'https   twitter com gretathunberg status                      ',\n",
       " 'https   twitter com amatowho status                      ',\n",
       " 'https   twitter com realgdt status                      ',\n",
       " ' https   twitter com ttomholiand status                      ',\n",
       " ' https   twitter com dsmom   status                      ',\n",
       " '  https   twitter com jik  k status                      ',\n",
       " 'https   twitter com mrmehoso   status                      ',\n",
       " 'https   twitter com theestallion status                      ',\n",
       " 'https   twitter com sixthformpoet status                      ',\n",
       " ' https   twitter com arpwel status                      ',\n",
       " 'https   twitter com jennifer  brett status                      ',\n",
       " 'https   twitter com rklau status                      ',\n",
       " 'https   twitter com melissablake status                      ',\n",
       " 'https   twitter com alamanecer status                      ',\n",
       " 'https   twitter com cruzkayne status                      ',\n",
       " 'https   twitter com jerrydoubles status                      ',\n",
       " 'favorite tweets of the year     we ll start  here s our    for        thishappened',\n",
       " 'we need to talk',\n",
       " 'hello https   twitter com tweets by tina status                      ',\n",
       " 'we re thankful for you  and you  and you and you and you and you and you and you and you and you and you and you and you and you and you and you and you and you and you and you and you and you and you and you and you and you and you and you and you and you and you and you and you',\n",
       " 'that color looks great on you',\n",
       " 'starting today  you can now hide replies to your tweets  out of sight  out of mind  pic twitter com  cfe nmvpj',\n",
       " 'i m super private which is why i share nothing with anyone i know and everything on twitter',\n",
       " 'you   you on twitter  ',\n",
       " 'hi',\n",
       " 'topics  now available for both android and web ',\n",
       " 'forcing ur homie to look at a good tweet u made pic twitter com  kkx  ndb ',\n",
       " 'anytime i meet someone who  says  i follow you on twitter  my heart stops for a full beat like bro that s my diary please respect my privacy',\n",
       " 'full moon  tweet carefully',\n",
       " 'dear diary ',\n",
       " 'hot takes  always  hot topics  brand new   now you can follow specific topics to discover the tweets you care about  pic twitter com  tvbrfutyd',\n",
       " 'me   closes twitter  my brain  so what now  me   opens twitter ',\n",
       " 'spooky vibe check',\n",
       " 'sharing tweets in dms is our love language  today  for android users  we re making that easier ',\n",
       " 'welcome to the dark side  android users  you can now go lights out on twitter  pic twitter com rpvstzvdnr',\n",
       " 'me  damn i really need to do my essay   also me  pic twitter com rnuecxukqm',\n",
       " 'me laughing on twitter at  am when i should be asleep pic twitter com qewadtmcsb',\n",
       " 'remember your first tweet   we do ',\n",
       " ' return of the mac  ',\n",
       " 'it s october  th  reply if you need a spooky name like if your twitter name is already ghastly rt if you respect and revere candy corn',\n",
       " 'get your search on  dm search is rolling out to everyone on ios today ',\n",
       " 'let s settle this  what is the greatest tweet ',\n",
       " 'extrovert in the tweets  introvert in the streets',\n",
       " 'on our list  make lists even better for you    now on ios  you can pin up to five lists  rearrange them  and swipe to access from home  pic twitter com gndfne dcl',\n",
       " 'my friends showing me a meme i saw on twitter   months ago  https   twitter com brianorwood status                     video    ',\n",
       " 'look up ',\n",
       " 'how i flirt w a girl                                                                                                      liking her        actually talking     tweets                  to her',\n",
       " 'how people act when your twitter is in light mode https   twitter com aicohoie status                     video    ',\n",
       " 'uno ',\n",
       " 'retweet this tweet to see this tweet on your twitter when you tweet ',\n",
       " 'unpin that one viral tweet you got in      beloved  let it go ',\n",
       " 'it s all about the details  now you can rearrange your photos while writing a tweet  pic twitter com mllwmpb dx',\n",
       " 'who likes candy   ',\n",
       " 'pic twitter com qxedfqype ',\n",
       " 'pic twitter com kqm ambpj ',\n",
       " 'just found out you can use an emoji to find a gif on twitter  from   wis  guy  and i m shooketh  i know you were trying to go to sleep and all  but    pic twitter com   vcbqckwi',\n",
       " 'hugs ',\n",
       " 'this is it   this is the tweet  pic twitter com xlyg  xya ',\n",
       " 'the joker trailer gave twitter a powerful weapon that i imagine i ll be seeing a lot in the near future pic twitter com tlfw fphgf',\n",
       " 'dear twitter  who is the kindest person you know on this app  i want to follow them    no other qualifiers apply  just the kindest person you know ',\n",
       " 'you are right',\n",
       " 'my mom just said she wants me to help her make a twitter account and she wants to follow me     pic twitter com kjevzhnxvz',\n",
       " 'weeeeeeeeeee',\n",
       " 'anyone got a charger ',\n",
       " 'wanting ur bf      not wanting ur bf on twitter              on twitter so u so u can laugh      can use him for  at tweets together      content                                                                                                                                ',\n",
       " 'hi john ',\n",
       " 'me reading my own twitter drafts that will never see the light of day pic twitter com mw  n  f w',\n",
       " 'retweet for night mode  like for day mode',\n",
       " 'unwanted messages aren t fun  so we re testing a filter in your dm requests to keep those out of sight  out of mind  pic twitter com sg idjdevv',\n",
       " 'me explaining twitter humor to my friends that aren t on twitter pic twitter com uzprzszp  ',\n",
       " 'appreciation tweet ',\n",
       " 'soul searching  hard  dm searching  easy  go ahead and try out the new dm search bar  we re testing it out on ios and web with your most recent dms  pic twitter com vwglbjz b ',\n",
       " 'happy birthday',\n",
       " 'you know when someone s phone goes off in the theater  or in a presentation  or at the movies  don t be that person    we re testing a way to temporarily snooze notifications on android  just in case you go viral at an inconvenient time  pic twitter com tsuejlqwds',\n",
       " 'you probably have notifications on for your must follows  now you can get notifications when there s a new reply to a tweet you re interested in  we re testing this on ios and android now  pic twitter com mabdfoitxc',\n",
       " 'what s happening   twitter     sino nasa states someone track down my billboard lmao pic twitter com  ejwhplwtu',\n",
       " 'oh  that s pretty cool  my apologies to nyc folks who are overwhelmed by this fabulousness    thanks   twitter  pic twitter com qwsq s rkc',\n",
       " '      x          x  ',\n",
       " 'balance the likes and retweets  don t ruin it pic twitter com  qdtastvgr',\n",
       " 'take a breather  we ll still be here',\n",
       " ' i m gonna go to bed early tonight   me on twitter at   am  https   twitter com negiigence status                      ',\n",
       " 'omg my carrots are famous   pic twitter com  dild  gcz']"
      ]
     },
     "execution_count": 81,
     "metadata": {},
     "output_type": "execute_result"
    }
   ],
   "source": [
    "text1"
   ]
  },
  {
   "cell_type": "code",
   "execution_count": 82,
   "metadata": {},
   "outputs": [],
   "source": [
    "stop = stopwords.words('english')\n",
    "def sw(file):\n",
    "    file=[word for word in str(file).split() if word not in stop]\n",
    "    return \"  \".join(file)"
   ]
  },
  {
   "cell_type": "code",
   "execution_count": 83,
   "metadata": {},
   "outputs": [],
   "source": [
    "for i in range(len(text1)):\n",
    "    text1[i]=sw(text1[i])"
   ]
  },
  {
   "cell_type": "markdown",
   "metadata": {},
   "source": [
    "# I am now applying the LDA(Latent Dirichlet Algorithm). The LDA is a topic model which generates topics based on word frequency from a set of documents. \n",
    "Steps Invloved before and during the usage of LDA are :\n",
    "\n",
    "1) Tokenizing :converting a document to its atomic elements\n",
    "2) Stopping : removing meaningless words\n",
    "3) Stemming : merging words that are equivalent in meaning"
   ]
  },
  {
   "cell_type": "code",
   "execution_count": 84,
   "metadata": {},
   "outputs": [],
   "source": [
    "from sklearn.feature_extraction.text import CountVectorizer,TfidfVectorizer\n",
    "from sklearn.decomposition import LatentDirichletAllocation\n",
    "vec = TfidfVectorizer()\n",
    "DTM = vec.fit_transform(text1)\n",
    "lda = LatentDirichletAllocation(n_components=5, max_iter=10, random_state=1234)\n",
    "lda_ouput = lda.fit_transform(DTM)"
   ]
  },
  {
   "cell_type": "markdown",
   "metadata": {},
   "source": [
    "\n",
    "# Similarity features\n",
    "\n"
   ]
  },
  {
   "cell_type": "code",
   "execution_count": 85,
   "metadata": {},
   "outputs": [
    {
     "data": {
      "text/plain": [
       "array([[0.07370538, 0.07470621, 0.07522571, 0.70287487, 0.07348783],\n",
       "       [0.07326437, 0.70623839, 0.07326553, 0.07396496, 0.07326675],\n",
       "       [0.05609358, 0.05597239, 0.05599292, 0.05618843, 0.77575268],\n",
       "       [0.05316139, 0.05296141, 0.05280046, 0.0528351 , 0.78824164],\n",
       "       [0.81047261, 0.04725231, 0.04732494, 0.04781384, 0.0471363 ],\n",
       "       [0.06188698, 0.06188703, 0.06188805, 0.06188337, 0.75245458],\n",
       "       [0.71936151, 0.07117406, 0.06982288, 0.06981732, 0.06982423],\n",
       "       [0.06359194, 0.74554712, 0.06346471, 0.06392134, 0.06347489],\n",
       "       [0.78617181, 0.0531743 , 0.05348711, 0.05394912, 0.05321765],\n",
       "       [0.05947436, 0.7620473 , 0.05938306, 0.05970445, 0.05939083],\n",
       "       [0.05934117, 0.05920745, 0.05928346, 0.05951737, 0.76265056],\n",
       "       [0.05918725, 0.05910887, 0.05915546, 0.76339218, 0.05915624],\n",
       "       [0.06319567, 0.06308789, 0.06315117, 0.74741364, 0.06315163],\n",
       "       [0.06342578, 0.06322604, 0.74633878, 0.06367151, 0.06333788],\n",
       "       [0.04692407, 0.81244689, 0.0466767 , 0.04727174, 0.0466806 ],\n",
       "       [0.85023833, 0.03751719, 0.03713511, 0.03797641, 0.03713296],\n",
       "       [0.06855833, 0.06825604, 0.72580934, 0.06895311, 0.06842318],\n",
       "       [0.03743796, 0.0372077 , 0.03703215, 0.85100997, 0.03731221],\n",
       "       [0.04518695, 0.0448883 , 0.04488508, 0.82025856, 0.04478111],\n",
       "       [0.04761568, 0.04714579, 0.04745222, 0.04746977, 0.81031653],\n",
       "       [0.79876281, 0.0505688 , 0.04988742, 0.05014676, 0.05063421],\n",
       "       [0.08286907, 0.08381945, 0.66757465, 0.08286572, 0.08287111],\n",
       "       [0.04037274, 0.83781675, 0.04045491, 0.04108282, 0.04027278],\n",
       "       [0.03899557, 0.03885861, 0.03883919, 0.84455247, 0.03875415],\n",
       "       [0.05316064, 0.05311192, 0.05314161, 0.78744303, 0.0531428 ],\n",
       "       [0.03828642, 0.03889599, 0.04024554, 0.84435704, 0.03821501],\n",
       "       [0.04360549, 0.04265573, 0.82829906, 0.04288651, 0.04255321],\n",
       "       [0.03216212, 0.03239696, 0.03217131, 0.03271546, 0.87055416],\n",
       "       [0.10001622, 0.59993532, 0.10001683, 0.10001416, 0.10001747],\n",
       "       [0.07349776, 0.07325253, 0.07373372, 0.70626113, 0.07325486],\n",
       "       [0.04173065, 0.04107957, 0.83462874, 0.04137892, 0.04118212],\n",
       "       [0.10002194, 0.10002198, 0.59991327, 0.10001916, 0.10002364],\n",
       "       [0.8157242 , 0.04577938, 0.04624757, 0.04610868, 0.04614017],\n",
       "       [0.73090035, 0.06707166, 0.06715971, 0.06797941, 0.06688887],\n",
       "       [0.05656659, 0.05648149, 0.0570978 , 0.77323641, 0.05661771],\n",
       "       [0.59915176, 0.10002272, 0.1003989 , 0.1000198 , 0.10040682],\n",
       "       [0.07358316, 0.07379781, 0.07346191, 0.70569409, 0.07346303],\n",
       "       [0.0828691 , 0.08286914, 0.66852488, 0.08286575, 0.08287114],\n",
       "       [0.65927241, 0.08542049, 0.08500173, 0.08510211, 0.08520327],\n",
       "       [0.2       , 0.2       , 0.2       , 0.2       , 0.2       ],\n",
       "       [0.08290254, 0.08315019, 0.08290349, 0.08289931, 0.66814447],\n",
       "       [0.06267916, 0.06210113, 0.75072654, 0.06239018, 0.06210299],\n",
       "       [0.59990916, 0.10002281, 0.10002362, 0.10001988, 0.10002453],\n",
       "       [0.06633621, 0.06644703, 0.06669511, 0.73402299, 0.06649866],\n",
       "       [0.10002608, 0.10002613, 0.10002706, 0.59989264, 0.1000281 ],\n",
       "       [0.70632772, 0.07326451, 0.0738804 , 0.07326054, 0.07326684],\n",
       "       [0.0382768 , 0.84665262, 0.03823773, 0.03844647, 0.03838638],\n",
       "       [0.05628664, 0.0559741 , 0.05552929, 0.77648963, 0.05572035],\n",
       "       [0.04352714, 0.04350026, 0.04355619, 0.82593405, 0.04348235],\n",
       "       [0.05616213, 0.77434857, 0.05619286, 0.05720959, 0.05608685],\n",
       "       [0.06390303, 0.74326445, 0.06425749, 0.0645087 , 0.06406633],\n",
       "       [0.0598244 , 0.05988688, 0.7602273 , 0.06014786, 0.05991356],\n",
       "       [0.05174447, 0.79368   , 0.05155875, 0.05160758, 0.05140919],\n",
       "       [0.05624348, 0.77402698, 0.05647228, 0.05696234, 0.05629491],\n",
       "       [0.05128471, 0.05135584, 0.05141152, 0.05159041, 0.79435752],\n",
       "       [0.06045283, 0.75939444, 0.0600387 , 0.06020903, 0.059905  ],\n",
       "       [0.05627577, 0.05633325, 0.05674113, 0.77421851, 0.05643134],\n",
       "       [0.06838055, 0.72460157, 0.06896   , 0.06941456, 0.06864332],\n",
       "       [0.05906039, 0.06064425, 0.76118966, 0.05998618, 0.05911953],\n",
       "       [0.06296027, 0.06379616, 0.06333588, 0.74694141, 0.06296628],\n",
       "       [0.0575509 , 0.05672138, 0.77254321, 0.05640997, 0.05677454],\n",
       "       [0.04942872, 0.80169811, 0.05030948, 0.04940103, 0.04916267],\n",
       "       [0.05374197, 0.05398152, 0.05371664, 0.78511161, 0.05344826],\n",
       "       [0.04615777, 0.81623989, 0.04594791, 0.04597535, 0.04567907],\n",
       "       [0.07325931, 0.07397751, 0.70624575, 0.07325624, 0.07326119],\n",
       "       [0.10002608, 0.10002613, 0.10002706, 0.59989264, 0.1000281 ],\n",
       "       [0.59990916, 0.10002281, 0.10002362, 0.10001988, 0.10002453],\n",
       "       [0.06888007, 0.72419262, 0.06907215, 0.06887518, 0.06897998],\n",
       "       [0.05218917, 0.79237172, 0.05171687, 0.05188785, 0.0518344 ],\n",
       "       [0.08360654, 0.664785  , 0.0836798 , 0.08389188, 0.08403678],\n",
       "       [0.73284361, 0.0667659 , 0.06676701, 0.06685523, 0.06676825],\n",
       "       [0.85724604, 0.03569179, 0.03560739, 0.03623434, 0.03522044],\n",
       "       [0.05777703, 0.05782985, 0.05805685, 0.76836666, 0.05796961],\n",
       "       [0.08287004, 0.66604047, 0.08386456, 0.08435277, 0.08287216],\n",
       "       [0.84182143, 0.03924347, 0.04002445, 0.0395499 , 0.03936074],\n",
       "       [0.72025713, 0.06988182, 0.06991714, 0.07003196, 0.06991196],\n",
       "       [0.07413619, 0.0737338 , 0.70336345, 0.07503139, 0.07373517],\n",
       "       [0.74421122, 0.06355089, 0.06410126, 0.06449166, 0.06364496],\n",
       "       [0.10002608, 0.10002613, 0.10002706, 0.59989264, 0.1000281 ],\n",
       "       [0.05200252, 0.05129432, 0.05105961, 0.79373888, 0.05190466],\n",
       "       [0.10108919, 0.10088431, 0.10020834, 0.1003197 , 0.59749846],\n",
       "       [0.62546068, 0.09417887, 0.0936354 , 0.09333774, 0.09338732],\n",
       "       [0.03767767, 0.03760977, 0.0374016 , 0.84992088, 0.03739008],\n",
       "       [0.08287408, 0.08287413, 0.08287526, 0.66850002, 0.08287651],\n",
       "       [0.66752981, 0.0837569 , 0.08290557, 0.08290106, 0.08290666],\n",
       "       [0.10002608, 0.10002613, 0.10002706, 0.59989264, 0.1000281 ],\n",
       "       [0.03858596, 0.03810469, 0.03937308, 0.84594817, 0.03798811],\n",
       "       [0.0733202 , 0.07332025, 0.07533821, 0.07331654, 0.7047048 ],\n",
       "       [0.69902228, 0.07489821, 0.07466332, 0.07504534, 0.07637085],\n",
       "       [0.08287004, 0.66852017, 0.08287107, 0.08286657, 0.08287216],\n",
       "       [0.04619856, 0.04612432, 0.81493205, 0.04628278, 0.04646229],\n",
       "       [0.06186251, 0.06012523, 0.7592084 , 0.05922133, 0.05958253],\n",
       "       [0.07471098, 0.69930884, 0.07374913, 0.07535938, 0.07687167],\n",
       "       [0.06669785, 0.0666979 , 0.06669902, 0.06669387, 0.73321136],\n",
       "       [0.08674538, 0.65792137, 0.08463723, 0.08563676, 0.08505926],\n",
       "       [0.10002273, 0.59990936, 0.10002358, 0.10001984, 0.10002449],\n",
       "       [0.74919429, 0.06229527, 0.06232113, 0.06213569, 0.06405363],\n",
       "       [0.0534521 , 0.05320015, 0.05304082, 0.05295099, 0.78735593],\n",
       "       [0.07791656, 0.68814121, 0.07789637, 0.07816251, 0.07788334],\n",
       "       [0.0676165 , 0.06834905, 0.06724185, 0.72976876, 0.06702384],\n",
       "       [0.10002608, 0.10002613, 0.10002706, 0.59989264, 0.1000281 ],\n",
       "       [0.05079189, 0.79769557, 0.05064175, 0.05037008, 0.05050071],\n",
       "       [0.04999571, 0.04905739, 0.8027716 , 0.04889254, 0.04928276],\n",
       "       [0.06427787, 0.06434439, 0.74275398, 0.06435524, 0.06426852],\n",
       "       [0.03858772, 0.84427856, 0.03867173, 0.03956045, 0.03890154],\n",
       "       [0.77620776, 0.05572586, 0.05589525, 0.05629174, 0.05587938],\n",
       "       [0.03797883, 0.03798768, 0.03777833, 0.03770714, 0.84854802],\n",
       "       [0.7768287 , 0.05557149, 0.0558017 , 0.05614903, 0.05564908],\n",
       "       [0.06243479, 0.06216491, 0.06285177, 0.06303841, 0.74951011],\n",
       "       [0.04987281, 0.04951071, 0.8012342 , 0.04968228, 0.0497    ],\n",
       "       [0.06829778, 0.06850489, 0.06887509, 0.06924841, 0.72507383],\n",
       "       [0.06829778, 0.06850489, 0.06887509, 0.06924841, 0.72507383],\n",
       "       [0.06813642, 0.068278  , 0.72630942, 0.0689398 , 0.06833636],\n",
       "       [0.06813642, 0.068278  , 0.72630942, 0.0689398 , 0.06833636],\n",
       "       [0.72273403, 0.06893783, 0.06946405, 0.06987261, 0.06899148],\n",
       "       [0.0679647 , 0.06812935, 0.06837971, 0.72736334, 0.06816289],\n",
       "       [0.06829778, 0.06850489, 0.06887509, 0.06924841, 0.72507383],\n",
       "       [0.06829778, 0.06850489, 0.06887509, 0.06924841, 0.72507383],\n",
       "       [0.06829778, 0.06850489, 0.06887509, 0.06924841, 0.72507383],\n",
       "       [0.06813642, 0.068278  , 0.72630942, 0.0689398 , 0.06833636],\n",
       "       [0.06838055, 0.72460157, 0.06896   , 0.06941456, 0.06864332],\n",
       "       [0.0679647 , 0.06812935, 0.06837971, 0.72736334, 0.06816289],\n",
       "       [0.0679647 , 0.06812935, 0.06837971, 0.72736334, 0.06816289],\n",
       "       [0.06364324, 0.0637484 , 0.06390765, 0.7449301 , 0.06377061],\n",
       "       [0.0679647 , 0.06812935, 0.06837971, 0.72736334, 0.06816289],\n",
       "       [0.72273403, 0.06893783, 0.06946405, 0.06987261, 0.06899148],\n",
       "       [0.72273403, 0.06893783, 0.06946405, 0.06987261, 0.06899148],\n",
       "       [0.06813642, 0.068278  , 0.72630942, 0.0689398 , 0.06833636],\n",
       "       [0.06813642, 0.068278  , 0.72630942, 0.0689398 , 0.06833636],\n",
       "       [0.06230765, 0.0622968 , 0.75055752, 0.06249699, 0.06234104],\n",
       "       [0.08324307, 0.0832431 , 0.66700324, 0.08326629, 0.0832443 ],\n",
       "       [0.05935911, 0.05941535, 0.76189151, 0.05984094, 0.05949308],\n",
       "       [0.10002273, 0.59990936, 0.10002358, 0.10001984, 0.10002449],\n",
       "       [0.70705683, 0.07323592, 0.07323703, 0.07323195, 0.07323826],\n",
       "       [0.04737951, 0.04759228, 0.81008949, 0.04741467, 0.04752404],\n",
       "       [0.05444349, 0.05391523, 0.05380178, 0.78413379, 0.05370571],\n",
       "       [0.10240824, 0.10173877, 0.10225372, 0.59144386, 0.10215541],\n",
       "       [0.59751803, 0.10002284, 0.10241466, 0.10001991, 0.10002456],\n",
       "       [0.06741199, 0.06703967, 0.72976596, 0.06874458, 0.06703779],\n",
       "       [0.04772982, 0.81023994, 0.04725421, 0.04739666, 0.04737938],\n",
       "       [0.83512378, 0.04146416, 0.0411143 , 0.04114839, 0.04114938],\n",
       "       [0.0685977 , 0.72782583, 0.06779394, 0.06785674, 0.0679258 ],\n",
       "       [0.08315544, 0.66795827, 0.0831477 , 0.08286651, 0.08287208],\n",
       "       [0.04499813, 0.04509497, 0.04531491, 0.81964293, 0.04494906],\n",
       "       [0.72778992, 0.06795236, 0.06801608, 0.068236  , 0.06800563],\n",
       "       [0.07326586, 0.7058805 , 0.07432345, 0.07326195, 0.07326824],\n",
       "       [0.04855148, 0.0488344 , 0.04872374, 0.80523757, 0.04865281],\n",
       "       [0.04824988, 0.04823355, 0.0482647 , 0.80684459, 0.04840729],\n",
       "       [0.05318256, 0.05308723, 0.78695135, 0.05363686, 0.053142  ],\n",
       "       [0.06204839, 0.06184378, 0.06196649, 0.06237724, 0.75176409],\n",
       "       [0.70094852, 0.07483785, 0.07481287, 0.0746727 , 0.07472807],\n",
       "       [0.08361414, 0.08297429, 0.08335086, 0.08297101, 0.6670897 ],\n",
       "       [0.0435202 , 0.04400733, 0.82440611, 0.04383008, 0.04423629],\n",
       "       [0.06026043, 0.05894055, 0.05892061, 0.05840848, 0.76346994],\n",
       "       [0.06923948, 0.06831381, 0.06782491, 0.06794163, 0.72668017],\n",
       "       [0.06769495, 0.72579423, 0.06992135, 0.06861396, 0.06797551],\n",
       "       [0.04139159, 0.04138726, 0.04144304, 0.83443054, 0.04134757],\n",
       "       [0.04676668, 0.04713952, 0.04683015, 0.8120099 , 0.04725375],\n",
       "       [0.10001597, 0.5999363 , 0.10001657, 0.10001395, 0.10001721],\n",
       "       [0.05849077, 0.05846525, 0.05903946, 0.0587248 , 0.76527973],\n",
       "       [0.05050511, 0.05049959, 0.05090189, 0.05127192, 0.7968215 ],\n",
       "       [0.10002273, 0.59990936, 0.10002358, 0.10001984, 0.10002449],\n",
       "       [0.70781211, 0.07309957, 0.07296025, 0.07322605, 0.07290202],\n",
       "       [0.05348388, 0.05311795, 0.05290842, 0.05386774, 0.78662201],\n",
       "       [0.05168106, 0.05131292, 0.05139446, 0.79440074, 0.05121083],\n",
       "       [0.0835197 , 0.66760016, 0.08314142, 0.08286657, 0.08287216],\n",
       "       [0.07438734, 0.07411394, 0.07427185, 0.70295597, 0.07427089],\n",
       "       [0.06881507, 0.72455537, 0.06861666, 0.06938135, 0.06863155],\n",
       "       [0.04147814, 0.04122113, 0.04127349, 0.83469588, 0.04133135],\n",
       "       [0.10002608, 0.10002613, 0.10002706, 0.59989264, 0.1000281 ],\n",
       "       [0.74561107, 0.06351273, 0.06348678, 0.06384311, 0.0635463 ],\n",
       "       [0.04230251, 0.04227869, 0.04237549, 0.83074684, 0.04229647],\n",
       "       [0.05208402, 0.05203054, 0.79135276, 0.05247104, 0.05206164],\n",
       "       [0.1001531 , 0.10001732, 0.5996096 , 0.10020135, 0.10001863],\n",
       "       [0.04995452, 0.05020442, 0.0499294 , 0.79997903, 0.04993264],\n",
       "       [0.10002194, 0.10002198, 0.59991327, 0.10001916, 0.10002364],\n",
       "       [0.07329636, 0.0732964 , 0.0732972 , 0.70661504, 0.07349499],\n",
       "       [0.78405359, 0.05380424, 0.05406565, 0.05405128, 0.05402524],\n",
       "       [0.0852066 , 0.08290364, 0.66608389, 0.08290023, 0.08290564],\n",
       "       [0.05062046, 0.05009654, 0.79819722, 0.05073474, 0.05035104],\n",
       "       [0.06644234, 0.06544095, 0.06499583, 0.73407093, 0.06904995],\n",
       "       [0.82806114, 0.04269446, 0.04342857, 0.04296711, 0.04284873],\n",
       "       [0.05782411, 0.05774755, 0.05776057, 0.0582826 , 0.76838516],\n",
       "       [0.08703288, 0.65714616, 0.08507189, 0.08527417, 0.0854749 ],\n",
       "       [0.03970671, 0.03917159, 0.0399212 , 0.84131152, 0.03988898],\n",
       "       [0.08287004, 0.66852017, 0.08287107, 0.08286657, 0.08287216],\n",
       "       [0.03701819, 0.03570806, 0.03619578, 0.03616363, 0.85491434],\n",
       "       [0.82655969, 0.04301009, 0.04331954, 0.04408235, 0.04302832],\n",
       "       [0.04663334, 0.81321655, 0.04680578, 0.04666483, 0.04667949],\n",
       "       [0.82556447, 0.04364343, 0.04357417, 0.04364419, 0.04357374],\n",
       "       [0.2       , 0.2       , 0.2       , 0.2       , 0.2       ],\n",
       "       [0.77585279, 0.05641624, 0.05586007, 0.05601288, 0.05585803],\n",
       "       [0.07332313, 0.07435368, 0.70476795, 0.07395272, 0.07360253],\n",
       "       [0.05072027, 0.79509368, 0.05083548, 0.05160704, 0.05174353],\n",
       "       [0.05602788, 0.05592228, 0.0559824 , 0.05617064, 0.7758968 ]])"
      ]
     },
     "execution_count": 85,
     "metadata": {},
     "output_type": "execute_result"
    }
   ],
   "source": [
    "lda_ouput"
   ]
  },
  {
   "cell_type": "markdown",
   "metadata": {},
   "source": [
    "# Dimension reduction using PCA\n",
    "\n",
    "Dimensionality reduction involves reducing the number of input variables or columns in modeling data. When dealing with high dimensional data, it is often useful to reduce the dimensionality by projecting the data to a lower dimensional subspace"
   ]
  },
  {
   "cell_type": "code",
   "execution_count": 86,
   "metadata": {},
   "outputs": [],
   "source": [
    "from sklearn.decomposition import PCA\n",
    "pca = PCA(n_components=2)\n",
    "pca_ouput = pca.fit(lda_ouput).transform(lda_ouput)"
   ]
  },
  {
   "cell_type": "code",
   "execution_count": 70,
   "metadata": {},
   "outputs": [
    {
     "data": {
      "text/plain": [
       "array([[ 0.51690896,  0.01795015],\n",
       "       [-0.23361606,  0.4688028 ],\n",
       "       [-0.12516576, -0.03330833],\n",
       "       [-0.12729897, -0.03387825],\n",
       "       [-0.23790841, -0.4997144 ],\n",
       "       [-0.12184651, -0.03224474],\n",
       "       [-0.20921619, -0.42558711],\n",
       "       [-0.2489651 ,  0.50576138],\n",
       "       [-0.22991441, -0.48029839],\n",
       "       [-0.25540342,  0.52130728],\n",
       "       [-0.12315165, -0.03276408],\n",
       "       [ 0.5839682 ,  0.02043297],\n",
       "       [ 0.56628348,  0.01958195],\n",
       "       [-0.17486969, -0.09005416],\n",
       "       [-0.27460425,  0.56882978],\n",
       "       [-0.25076973, -0.53149739],\n",
       "       [-0.16960728, -0.08707501],\n",
       "       [ 0.6809416 ,  0.02491211],\n",
       "       [ 0.64688443,  0.02325733],\n",
       "       [-0.13038421, -0.03503618],\n",
       "       [-0.23473755, -0.49000607],\n",
       "       [-0.15596282, -0.0775325 ],\n",
       "       [-0.28418052,  0.59288433],\n",
       "       [ 0.67378005,  0.02462363],\n",
       "       [ 0.61058765,  0.02170362],\n",
       "       [ 0.67356528,  0.02495112],\n",
       "       [-0.19557941, -0.10271922],\n",
       "       [-0.13902848, -0.03706732],\n",
       "       [-0.1933281 ,  0.36838809],\n",
       "       [ 0.52073228,  0.01731286],\n",
       "       [-0.19703444, -0.10347045],\n",
       "       [-0.13883655, -0.06817326],\n",
       "       [-0.24000078, -0.50411286],\n",
       "       [-0.21170956, -0.43576499],\n",
       "       [ 0.59488602,  0.02087636],\n",
       "       [-0.16974318, -0.32991175],\n",
       "       [ 0.52006944,  0.01767098],\n",
       "       [-0.15585922, -0.07836238],\n",
       "       [-0.18925535, -0.37787618],\n",
       "       [-0.03961777, -0.00878445],\n",
       "       [-0.10938123, -0.02847976],\n",
       "       [-0.17618776, -0.09095518],\n",
       "       [-0.16982041, -0.33034131],\n",
       "       [ 0.55147374,  0.01900478],\n",
       "       [ 0.40299829,  0.01199338],\n",
       "       [-0.20463053, -0.4160817 ],\n",
       "       [-0.28802108,  0.60111684],\n",
       "       [ 0.59841372,  0.02102568],\n",
       "       [ 0.65318738,  0.0237157 ],\n",
       "       [-0.25950549,  0.53310636],\n",
       "       [-0.24805196,  0.50374921],\n",
       "       [-0.17837389, -0.09193697],\n",
       "       [-0.26778232,  0.55100959],\n",
       "       [-0.25972696,  0.53276086],\n",
       "       [-0.12787118, -0.03397691],\n",
       "       [-0.25458716,  0.51860198],\n",
       "       [ 0.59596995,  0.02104111],\n",
       "       [-0.24061428,  0.48627823],\n",
       "       [-0.17864738, -0.09096817],\n",
       "       [ 0.56569428,  0.02023246],\n",
       "       [-0.18218889, -0.09437468],\n",
       "       [-0.27108284,  0.55868164],\n",
       "       [ 0.60795396,  0.02181016],\n",
       "       [-0.27645489,  0.57225113],\n",
       "       [-0.16547374, -0.08344357],\n",
       "       [ 0.40299829,  0.01199338],\n",
       "       [-0.16982041, -0.33034131],\n",
       "       [-0.2411586 ,  0.48560119],\n",
       "       [-0.26732973,  0.5497149 ],\n",
       "       [-0.21812362,  0.42968438],\n",
       "       [-0.2130248 , -0.43724167],\n",
       "       [-0.25304531, -0.53720832],\n",
       "       [ 0.58949284,  0.02075274],\n",
       "       [-0.2178077 ,  0.43114212],\n",
       "       [-0.2485537 , -0.52513427],\n",
       "       [-0.20889124, -0.42714344],\n",
       "       [-0.16353972, -0.08379138],\n",
       "       [-0.21618899, -0.44665506],\n",
       "       [ 0.40299829,  0.01199338],\n",
       "       [ 0.61758357,  0.02162839],\n",
       "       [-0.09916835, -0.02573044],\n",
       "       [-0.17853734, -0.35047996],\n",
       "       [ 0.67970859,  0.02496946],\n",
       "       [ 0.4789355 ,  0.01555812],\n",
       "       [-0.19215403, -0.38420739],\n",
       "       [ 0.40299829,  0.01199338],\n",
       "       [ 0.67533964,  0.02433893],\n",
       "       [-0.11519999, -0.03047379],\n",
       "       [-0.20217467, -0.41027411],\n",
       "       [-0.21968893,  0.43306922],\n",
       "       [-0.19212642, -0.10017387],\n",
       "       [-0.17955679, -0.09297439],\n",
       "       [-0.23115275,  0.46252218],\n",
       "       [-0.11898275, -0.03142759],\n",
       "       [-0.21559756,  0.42241096],\n",
       "       [-0.19331896,  0.36836351],\n",
       "       [-0.2188823 , -0.45070812],\n",
       "       [-0.12728772, -0.03387878],\n",
       "       [-0.22701549,  0.45162399],\n",
       "       [ 0.54661744,  0.0193566 ],\n",
       "       [ 0.40299829,  0.01199338],\n",
       "       [-0.26957446,  0.55474033],\n",
       "       [-0.18962865, -0.09894616],\n",
       "       [-0.17422938, -0.08933583],\n",
       "       [-0.28653322,  0.59910293],\n",
       "       [-0.22682427, -0.472243  ],\n",
       "       [-0.13633508, -0.036302  ],\n",
       "       [-0.22701891, -0.47274588],\n",
       "       [-0.12089255, -0.03235392],\n",
       "       [-0.18878128, -0.09832379],\n",
       "       [-0.11715606, -0.03096933],\n",
       "       [-0.11715606, -0.03096933],\n",
       "       [-0.16960485, -0.08684406],\n",
       "       [-0.16960485, -0.08684406],\n",
       "       [-0.20918769, -0.42937046],\n",
       "       [ 0.54410291,  0.018693  ],\n",
       "       [-0.11715606, -0.03096933],\n",
       "       [-0.11715606, -0.03096933],\n",
       "       [-0.11715606, -0.03096933],\n",
       "       [-0.16960485, -0.08684406],\n",
       "       [-0.24061428,  0.48627823],\n",
       "       [ 0.54410291,  0.018693  ],\n",
       "       [ 0.54410291,  0.018693  ],\n",
       "       [ 0.56354087,  0.01957825],\n",
       "       [ 0.54410291,  0.018693  ],\n",
       "       [-0.20918769, -0.42937046],\n",
       "       [-0.20918769, -0.42937046],\n",
       "       [-0.16960485, -0.08684406],\n",
       "       [-0.16960485, -0.08684406],\n",
       "       [-0.17605139, -0.09055215],\n",
       "       [-0.15545936, -0.07813605],\n",
       "       [-0.17865972, -0.0921896 ],\n",
       "       [-0.19331896,  0.36836351],\n",
       "       [-0.20470586, -0.41649606],\n",
       "       [-0.19104839, -0.09923972],\n",
       "       [ 0.60687824,  0.02124938],\n",
       "       [ 0.39367488,  0.01106518],\n",
       "       [-0.16967217, -0.32908723],\n",
       "       [-0.1697397 , -0.08768699],\n",
       "       [-0.27422276,  0.56655925],\n",
       "       [-0.2465059 , -0.5192743 ],\n",
       "       [-0.24272472,  0.48866929],\n",
       "       [-0.21964545,  0.43242884],\n",
       "       [ 0.64621963,  0.02345235],\n",
       "       [-0.21124594, -0.43322873],\n",
       "       [-0.23433906,  0.46837688],\n",
       "       [ 0.63027131,  0.02285831],\n",
       "       [ 0.63207791,  0.02272867],\n",
       "       [-0.18481637, -0.09601015],\n",
       "       [-0.1213713 , -0.03234652],\n",
       "       [-0.20282185, -0.41153617],\n",
       "       [-0.10941221, -0.02908455],\n",
       "       [-0.19456502, -0.10120008],\n",
       "       [-0.12431645, -0.03358758],\n",
       "       [-0.11848252, -0.03170339],\n",
       "       [-0.2416226 ,  0.48749426],\n",
       "       [ 0.66259026,  0.02417197],\n",
       "       [ 0.6377964 ,  0.02328167],\n",
       "       [-0.19332844,  0.36838901],\n",
       "       [-0.12366837, -0.03287028],\n",
       "       [-0.12787911, -0.03415783],\n",
       "       [-0.19331896,  0.36836351],\n",
       "       [-0.20477091, -0.41704071],\n",
       "       [-0.1263453 , -0.03388247],\n",
       "       [ 0.61826379,  0.0218605 ],\n",
       "       [-0.21962892,  0.43192509],\n",
       "       [ 0.51708132,  0.01715471],\n",
       "       [-0.24067311,  0.48600367],\n",
       "       [ 0.66288933,  0.02402268],\n",
       "       [ 0.40299829,  0.01199338],\n",
       "       [-0.21698242, -0.44753492],\n",
       "       [ 0.65851906,  0.02396242],\n",
       "       [-0.18598258, -0.09663541],\n",
       "       [-0.13864708, -0.06821732],\n",
       "       [ 0.62443669,  0.02258413],\n",
       "       [-0.13883655, -0.06817326],\n",
       "       [ 0.52114267,  0.01753393],\n",
       "       [-0.22967691, -0.47855247],\n",
       "       [-0.15596775, -0.07954971],\n",
       "       [-0.18769897, -0.0979803 ],\n",
       "       [ 0.55183138,  0.01829466],\n",
       "       [-0.24409589, -0.51406004],\n",
       "       [-0.12378156, -0.03295487],\n",
       "       [-0.21589091,  0.42156031],\n",
       "       [ 0.67027896,  0.0241005 ],\n",
       "       [-0.21968893,  0.43306922],\n",
       "       [-0.13719463, -0.03749639],\n",
       "       [-0.2428141 , -0.51280288],\n",
       "       [-0.27532805,  0.56955695],\n",
       "       [-0.24325308, -0.51175185],\n",
       "       [-0.03961777, -0.00878445],\n",
       "       [-0.22718149, -0.47150048],\n",
       "       [-0.16473664, -0.08300789],\n",
       "       [-0.26784695,  0.55280954],\n",
       "       [-0.12516407, -0.03330826]])"
      ]
     },
     "execution_count": 70,
     "metadata": {},
     "output_type": "execute_result"
    }
   ],
   "source": [
    "pca_ouput"
   ]
  },
  {
   "cell_type": "code",
   "execution_count": 51,
   "metadata": {},
   "outputs": [],
   "source": [
    "import pandas as pd\n",
    "data=pd.DataFrame(pca_ouput)"
   ]
  },
  {
   "cell_type": "code",
   "execution_count": 52,
   "metadata": {},
   "outputs": [
    {
     "data": {
      "text/html": [
       "<div>\n",
       "<style scoped>\n",
       "    .dataframe tbody tr th:only-of-type {\n",
       "        vertical-align: middle;\n",
       "    }\n",
       "\n",
       "    .dataframe tbody tr th {\n",
       "        vertical-align: top;\n",
       "    }\n",
       "\n",
       "    .dataframe thead th {\n",
       "        text-align: right;\n",
       "    }\n",
       "</style>\n",
       "<table border=\"1\" class=\"dataframe\">\n",
       "  <thead>\n",
       "    <tr style=\"text-align: right;\">\n",
       "      <th></th>\n",
       "      <th>0</th>\n",
       "      <th>1</th>\n",
       "    </tr>\n",
       "  </thead>\n",
       "  <tbody>\n",
       "    <tr>\n",
       "      <th>0</th>\n",
       "      <td>0.516909</td>\n",
       "      <td>0.017950</td>\n",
       "    </tr>\n",
       "    <tr>\n",
       "      <th>1</th>\n",
       "      <td>-0.233616</td>\n",
       "      <td>0.468803</td>\n",
       "    </tr>\n",
       "    <tr>\n",
       "      <th>2</th>\n",
       "      <td>-0.125166</td>\n",
       "      <td>-0.033308</td>\n",
       "    </tr>\n",
       "    <tr>\n",
       "      <th>3</th>\n",
       "      <td>-0.127299</td>\n",
       "      <td>-0.033878</td>\n",
       "    </tr>\n",
       "    <tr>\n",
       "      <th>4</th>\n",
       "      <td>-0.237908</td>\n",
       "      <td>-0.499714</td>\n",
       "    </tr>\n",
       "  </tbody>\n",
       "</table>\n",
       "</div>"
      ],
      "text/plain": [
       "          0         1\n",
       "0  0.516909  0.017950\n",
       "1 -0.233616  0.468803\n",
       "2 -0.125166 -0.033308\n",
       "3 -0.127299 -0.033878\n",
       "4 -0.237908 -0.499714"
      ]
     },
     "execution_count": 52,
     "metadata": {},
     "output_type": "execute_result"
    }
   ],
   "source": [
    "data.head()"
   ]
  },
  {
   "cell_type": "code",
   "execution_count": 53,
   "metadata": {},
   "outputs": [],
   "source": [
    "data.columns=['first','second']"
   ]
  },
  {
   "cell_type": "code",
   "execution_count": 54,
   "metadata": {},
   "outputs": [],
   "source": [
    "data['label']=cluster_new.labels_"
   ]
  },
  {
   "cell_type": "markdown",
   "metadata": {},
   "source": [
    "# KMEANS clustering Algorithm"
   ]
  },
  {
   "cell_type": "code",
   "execution_count": 87,
   "metadata": {},
   "outputs": [
    {
     "data": {
      "text/plain": [
       "<seaborn.axisgrid.FacetGrid at 0x1df93c1c710>"
      ]
     },
     "execution_count": 87,
     "metadata": {},
     "output_type": "execute_result"
    },
    {
     "data": {
      "image/png": "[encoded data removed]",
      "text/plain": [
       "<Figure size 402.375x360 with 1 Axes>"
      ]
     },
     "metadata": {
      "needs_background": "light"
     },
     "output_type": "display_data"
    }
   ],
   "source": [
    "from sklearn.cluster import KMeans\n",
    "cluster_new = KMeans(5)\n",
    "cluster_new.fit(pca_ouput)\n",
    "import seaborn as sb\n",
    "sb.lmplot(x='first',y='second',hue = 'label',data=data,fit_reg=False,)"
   ]
  },
  {
   "cell_type": "markdown",
   "metadata": {},
   "source": [
    "# SCENARIO 1 : CONCLUSION\n",
    "It can thus be concluded, From the above cluster it is noted that the cluster indicates relevant tweets. However, it is also noted that this may/may not change depending on the tweets and type of tweets."
   ]
  },
  {
   "cell_type": "code",
   "execution_count": null,
   "metadata": {},
   "outputs": [],
   "source": []
  },
  {
   "cell_type": "code",
   "execution_count": null,
   "metadata": {},
   "outputs": [],
   "source": []
  },
  {
   "cell_type": "markdown",
   "metadata": {},
   "source": [
    "# SCENARIO 2: IMPORTING TWEETS FROM AN EXCEL FILE TO DEMONSTRATE THE WORKING OF PCA AND K- MEANS\n",
    "\n",
    "Although the above graph satisfies requirements outlined in ICA 2 and ICA3 I will now using additional filters. I will now be displaying the tweet data by reading it from an Excel File.\n",
    "I have just tried adding and using more features to learn, deploy and practice Python Programming and Data Mining."
   ]
  },
  {
   "cell_type": "code",
   "execution_count": null,
   "metadata": {},
   "outputs": [],
   "source": []
  },
  {
   "cell_type": "code",
   "execution_count": 93,
   "metadata": {},
   "outputs": [],
   "source": [
    "import pandas as pd\n",
    "text1=pd.read_excel('Tweet Excel file.xlsx')"
   ]
  },
  {
   "cell_type": "code",
   "execution_count": 94,
   "metadata": {},
   "outputs": [
    {
     "data": {
      "text/html": [
       "<div>\n",
       "<style scoped>\n",
       "    .dataframe tbody tr th:only-of-type {\n",
       "        vertical-align: middle;\n",
       "    }\n",
       "\n",
       "    .dataframe tbody tr th {\n",
       "        vertical-align: top;\n",
       "    }\n",
       "\n",
       "    .dataframe thead th {\n",
       "        text-align: right;\n",
       "    }\n",
       "</style>\n",
       "<table border=\"1\" class=\"dataframe\">\n",
       "  <thead>\n",
       "    <tr style=\"text-align: right;\">\n",
       "      <th></th>\n",
       "      <th>Tweet Number</th>\n",
       "      <th>Tweet</th>\n",
       "    </tr>\n",
       "  </thead>\n",
       "  <tbody>\n",
       "    <tr>\n",
       "      <th>0</th>\n",
       "      <td>NaN</td>\n",
       "      <td>NaN</td>\n",
       "    </tr>\n",
       "    <tr>\n",
       "      <th>1</th>\n",
       "      <td>Tweet 1</td>\n",
       "      <td>@BillGates @bernardolayo @hewa_tele Hi Billy b...</td>\n",
       "    </tr>\n",
       "    <tr>\n",
       "      <th>2</th>\n",
       "      <td>Tweet 2</td>\n",
       "      <td>RT @CatNamus: 37.) #SergeyBrin, owner of #Goog...</td>\n",
       "    </tr>\n",
       "    <tr>\n",
       "      <th>3</th>\n",
       "      <td>Tweet 3</td>\n",
       "      <td>RT @AliBeckZeck: Why would #BillGates be calli...</td>\n",
       "    </tr>\n",
       "    <tr>\n",
       "      <th>4</th>\n",
       "      <td>Tweet 4</td>\n",
       "      <td>RT @JonnyQPublic: Can we just take a moment to...</td>\n",
       "    </tr>\n",
       "  </tbody>\n",
       "</table>\n",
       "</div>"
      ],
      "text/plain": [
       "  Tweet Number                                              Tweet\n",
       "0          NaN                                                NaN\n",
       "1      Tweet 1  @BillGates @bernardolayo @hewa_tele Hi Billy b...\n",
       "2      Tweet 2  RT @CatNamus: 37.) #SergeyBrin, owner of #Goog...\n",
       "3      Tweet 3  RT @AliBeckZeck: Why would #BillGates be calli...\n",
       "4      Tweet 4  RT @JonnyQPublic: Can we just take a moment to..."
      ]
     },
     "execution_count": 94,
     "metadata": {},
     "output_type": "execute_result"
    }
   ],
   "source": [
    "text1.head()"
   ]
  },
  {
   "cell_type": "code",
   "execution_count": 95,
   "metadata": {},
   "outputs": [],
   "source": [
    "text1.dropna(inplace=True)"
   ]
  },
  {
   "cell_type": "code",
   "execution_count": 96,
   "metadata": {},
   "outputs": [
    {
     "data": {
      "text/html": [
       "<div>\n",
       "<style scoped>\n",
       "    .dataframe tbody tr th:only-of-type {\n",
       "        vertical-align: middle;\n",
       "    }\n",
       "\n",
       "    .dataframe tbody tr th {\n",
       "        vertical-align: top;\n",
       "    }\n",
       "\n",
       "    .dataframe thead th {\n",
       "        text-align: right;\n",
       "    }\n",
       "</style>\n",
       "<table border=\"1\" class=\"dataframe\">\n",
       "  <thead>\n",
       "    <tr style=\"text-align: right;\">\n",
       "      <th></th>\n",
       "      <th>Tweet Number</th>\n",
       "      <th>Tweet</th>\n",
       "    </tr>\n",
       "  </thead>\n",
       "  <tbody>\n",
       "    <tr>\n",
       "      <th>1</th>\n",
       "      <td>Tweet 1</td>\n",
       "      <td>@BillGates @bernardolayo @hewa_tele Hi Billy b...</td>\n",
       "    </tr>\n",
       "    <tr>\n",
       "      <th>2</th>\n",
       "      <td>Tweet 2</td>\n",
       "      <td>RT @CatNamus: 37.) #SergeyBrin, owner of #Goog...</td>\n",
       "    </tr>\n",
       "    <tr>\n",
       "      <th>3</th>\n",
       "      <td>Tweet 3</td>\n",
       "      <td>RT @AliBeckZeck: Why would #BillGates be calli...</td>\n",
       "    </tr>\n",
       "    <tr>\n",
       "      <th>4</th>\n",
       "      <td>Tweet 4</td>\n",
       "      <td>RT @JonnyQPublic: Can we just take a moment to...</td>\n",
       "    </tr>\n",
       "    <tr>\n",
       "      <th>5</th>\n",
       "      <td>Tweet 5</td>\n",
       "      <td>RT @NickQuinlan9: @BillGates The world of the ...</td>\n",
       "    </tr>\n",
       "    <tr>\n",
       "      <th>6</th>\n",
       "      <td>Tweet 6</td>\n",
       "      <td>RT @OnEdgeOfWonder: THE SERIES TOO HOT FOR YOU...</td>\n",
       "    </tr>\n",
       "    <tr>\n",
       "      <th>7</th>\n",
       "      <td>Tweet 7</td>\n",
       "      <td>@Mrdeeds1111 @DougDerby Hey @BillGates you do ...</td>\n",
       "    </tr>\n",
       "    <tr>\n",
       "      <th>8</th>\n",
       "      <td>Tweet 8</td>\n",
       "      <td>@BillGates I’ll shoot chicken grease up my arm...</td>\n",
       "    </tr>\n",
       "    <tr>\n",
       "      <th>9</th>\n",
       "      <td>Tweet 9</td>\n",
       "      <td>RT @NSkiF1j1: Appalled by the article in @NEJM...</td>\n",
       "    </tr>\n",
       "    <tr>\n",
       "      <th>10</th>\n",
       "      <td>Tweet 10</td>\n",
       "      <td>$MRNA should…RT @rix: Todavía hay gente con ...</td>\n",
       "    </tr>\n",
       "  </tbody>\n",
       "</table>\n",
       "</div>"
      ],
      "text/plain": [
       "   Tweet Number                                              Tweet\n",
       "1       Tweet 1  @BillGates @bernardolayo @hewa_tele Hi Billy b...\n",
       "2       Tweet 2  RT @CatNamus: 37.) #SergeyBrin, owner of #Goog...\n",
       "3       Tweet 3  RT @AliBeckZeck: Why would #BillGates be calli...\n",
       "4       Tweet 4  RT @JonnyQPublic: Can we just take a moment to...\n",
       "5       Tweet 5  RT @NickQuinlan9: @BillGates The world of the ...\n",
       "6       Tweet 6  RT @OnEdgeOfWonder: THE SERIES TOO HOT FOR YOU...\n",
       "7       Tweet 7  @Mrdeeds1111 @DougDerby Hey @BillGates you do ...\n",
       "8       Tweet 8  @BillGates I’ll shoot chicken grease up my arm...\n",
       "9       Tweet 9  RT @NSkiF1j1: Appalled by the article in @NEJM...\n",
       "10     Tweet 10    $MRNA should…RT @rix: Todavía hay gente con ..."
      ]
     },
     "execution_count": 96,
     "metadata": {},
     "output_type": "execute_result"
    }
   ],
   "source": [
    "text1"
   ]
  },
  {
   "cell_type": "markdown",
   "metadata": {},
   "source": [
    "# CLEANING THE TEXT DATA"
   ]
  },
  {
   "cell_type": "code",
   "execution_count": 97,
   "metadata": {},
   "outputs": [],
   "source": [
    "text1.dropna(inplace=True)"
   ]
  },
  {
   "cell_type": "code",
   "execution_count": 98,
   "metadata": {},
   "outputs": [],
   "source": [
    "import numpy as np\n",
    "text1 = list(np.array(text1['Tweet']))"
   ]
  },
  {
   "cell_type": "code",
   "execution_count": 99,
   "metadata": {},
   "outputs": [
    {
     "data": {
      "text/plain": [
       "['@BillGates @bernardolayo @hewa_tele Hi Billy boy, we see yooooou https://t.co/XuywBj5quA',\n",
       " 'RT @CatNamus: 37.) #SergeyBrin, owner of #Google visited #JeffreyEpstein after his #ChildSexTrafficking conviction in 2011 at #LongBeach, C…',\n",
       " 'RT @AliBeckZeck: Why would #BillGates be calling #COVID “Pandemic 1” unless he knows something we don’t know? Obviously he’s got something…',\n",
       " 'RT @JonnyQPublic: Can we just take a moment to thank #billgates for stepping up and paying for free #Coronavirus tests during this #plandem…',\n",
       " 'RT @NickQuinlan9: @BillGates The world of the Satanic Elite, like Ghislaine, Oprah, Ellen DeGeneres, Obama, Clintons--is crumbling. When al…',\n",
       " 'RT @OnEdgeOfWonder: THE SERIES TOO HOT FOR YOUTUBE  Billuminati Gates[P1] Epstein, Eugenics &amp; The Lolita Express 🛩👉🏻 https://t.co/T…',\n",
       " '@Mrdeeds1111 @DougDerby Hey @BillGates you do realize how much outrage and anger that has built up &amp; you have cause… https://t.co/81Sce4noaD',\n",
       " '@BillGates I’ll shoot chicken grease up my arm before I take a bill gates vaccine.',\n",
       " 'RT @NSkiF1j1: Appalled by the article in @NEJM with only 2 black patients studied (4%) in P1 safety trial for Covid vaccine ',\n",
       " '  $MRNA should…RT @rix: Todavía hay gente con huevos en las noticias #Epstein #BillGates https://t.co/EWBjNwC99U']"
      ]
     },
     "execution_count": 99,
     "metadata": {},
     "output_type": "execute_result"
    }
   ],
   "source": [
    "text1"
   ]
  },
  {
   "cell_type": "code",
   "execution_count": 100,
   "metadata": {},
   "outputs": [
    {
     "name": "stdout",
     "output_type": "stream",
     "text": [
      "@BillGates @bernardolayo @hewa_tele Hi Billy boy, we see yooooou https://t.co/XuywBj5quA\n",
      "RT @CatNamus: 37.) #SergeyBrin, owner of #Google visited #JeffreyEpstein after his #ChildSexTrafficking conviction in 2011 at #LongBeach, C…\n",
      "RT @AliBeckZeck: Why would #BillGates be calling #COVID “Pandemic 1” unless he knows something we don’t know? Obviously he’s got something…\n",
      "RT @JonnyQPublic: Can we just take a moment to thank #billgates for stepping up and paying for free #Coronavirus tests during this #plandem…\n",
      "RT @NickQuinlan9: @BillGates The world of the Satanic Elite, like Ghislaine, Oprah, Ellen DeGeneres, Obama, Clintons--is crumbling. When al…\n",
      "RT @OnEdgeOfWonder: THE SERIES TOO HOT FOR YOUTUBE  Billuminati Gates[P1] Epstein, Eugenics &amp; The Lolita Express 🛩👉🏻 https://t.co/T…\n",
      "@Mrdeeds1111 @DougDerby Hey @BillGates you do realize how much outrage and anger that has built up &amp; you have cause… https://t.co/81Sce4noaD\n",
      "@BillGates I’ll shoot chicken grease up my arm before I take a bill gates vaccine.\n",
      "RT @NSkiF1j1: Appalled by the article in @NEJM with only 2 black patients studied (4%) in P1 safety trial for Covid vaccine \n",
      "  $MRNA should…RT @rix: Todavía hay gente con huevos en las noticias #Epstein #BillGates https://t.co/EWBjNwC99U\n"
     ]
    }
   ],
   "source": [
    "import re\n",
    "for i in range(len(text1)):\n",
    "    print(text1[i])\n",
    "    text1[i] = text1[i].lower()\n",
    "    text1[i] = re.sub('[^a-z]',' ',text1[i])"
   ]
  },
  {
   "cell_type": "code",
   "execution_count": 101,
   "metadata": {},
   "outputs": [
    {
     "data": {
      "text/plain": [
       "[' billgates  bernardolayo  hewa tele hi billy boy  we see yooooou https   t co xuywbj qua',\n",
       " 'rt  catnamus        sergeybrin  owner of  google visited  jeffreyepstein after his  childsextrafficking conviction in      at  longbeach  c ',\n",
       " 'rt  alibeckzeck  why would  billgates be calling  covid  pandemic    unless he knows something we don t know  obviously he s got something ',\n",
       " 'rt  jonnyqpublic  can we just take a moment to thank  billgates for stepping up and paying for free  coronavirus tests during this  plandem ',\n",
       " 'rt  nickquinlan    billgates the world of the satanic elite  like ghislaine  oprah  ellen degeneres  obama  clintons  is crumbling  when al ',\n",
       " 'rt  onedgeofwonder  the series too hot for youtube  billuminati gates p   epstein  eugenics  amp  the lolita express     https   t co t ',\n",
       " ' mrdeeds      dougderby hey  billgates you do realize how much outrage and anger that has built up  amp  you have cause  https   t co   sce noad',\n",
       " ' billgates i ll shoot chicken grease up my arm before i take a bill gates vaccine ',\n",
       " 'rt  nskif j   appalled by the article in  nejm with only   black patients studied      in p  safety trial for covid vaccine ',\n",
       " '   mrna should rt  rix  todav a hay gente con huevos en las noticias  epstein  billgates https   t co ewbjnwc  u']"
      ]
     },
     "execution_count": 101,
     "metadata": {},
     "output_type": "execute_result"
    }
   ],
   "source": [
    "text1"
   ]
  },
  {
   "cell_type": "code",
   "execution_count": 102,
   "metadata": {},
   "outputs": [],
   "source": [
    "stop = stopwords.words('english')\n",
    "def sw(file):\n",
    "    file=[word for word in str(file).split() if word not in stop]\n",
    "    return \"  \".join(file)"
   ]
  },
  {
   "cell_type": "code",
   "execution_count": 103,
   "metadata": {},
   "outputs": [],
   "source": [
    "for i in range(len(text1)):\n",
    "    text1[i]=sw(text1[i])"
   ]
  },
  {
   "cell_type": "code",
   "execution_count": 104,
   "metadata": {},
   "outputs": [],
   "source": [
    "from sklearn.feature_extraction.text import CountVectorizer,TfidfVectorizer\n",
    "from sklearn.decomposition import LatentDirichletAllocation\n",
    "vec = TfidfVectorizer()\n",
    "DTM = vec.fit_transform(text1)\n",
    "lda = LatentDirichletAllocation(n_components=5, max_iter=10, random_state=1234)\n",
    "lda_ouput = lda.fit_transform(DTM)"
   ]
  },
  {
   "cell_type": "markdown",
   "metadata": {},
   "source": [
    "# SIMILARITY FEATURES"
   ]
  },
  {
   "cell_type": "code",
   "execution_count": 105,
   "metadata": {},
   "outputs": [
    {
     "data": {
      "text/plain": [
       "array([[0.04409579, 0.82345976, 0.04408641, 0.04418442, 0.04417361],\n",
       "       [0.04857922, 0.04875674, 0.80538147, 0.04866756, 0.04861501],\n",
       "       [0.04549019, 0.04566227, 0.04550816, 0.81781887, 0.0455205 ],\n",
       "       [0.04562439, 0.04584656, 0.0456814 , 0.04592848, 0.81691917],\n",
       "       [0.04167628, 0.04173659, 0.04169007, 0.83319788, 0.04169918],\n",
       "       [0.04280096, 0.82854143, 0.0428068 , 0.0429327 , 0.0429181 ],\n",
       "       [0.04162272, 0.04218526, 0.04161368, 0.04166822, 0.83291011],\n",
       "       [0.05064748, 0.05086185, 0.05063938, 0.7970373 , 0.05081398],\n",
       "       [0.04529623, 0.81857972, 0.04530343, 0.04553084, 0.04528978],\n",
       "       [0.04077797, 0.83673512, 0.04078108, 0.04086219, 0.04084365]])"
      ]
     },
     "execution_count": 105,
     "metadata": {},
     "output_type": "execute_result"
    }
   ],
   "source": [
    "lda_ouput"
   ]
  },
  {
   "cell_type": "markdown",
   "metadata": {},
   "source": [
    "# Dimension reduction using PCA# Dimension reduction using PCA"
   ]
  },
  {
   "cell_type": "code",
   "execution_count": 106,
   "metadata": {},
   "outputs": [],
   "source": [
    "from sklearn.decomposition import PCA\n",
    "pca = PCA(n_components=2)\n",
    "pca_ouput = pca.fit(lda_ouput).transform(lda_ouput)"
   ]
  },
  {
   "cell_type": "code",
   "execution_count": 107,
   "metadata": {},
   "outputs": [
    {
     "data": {
      "text/plain": [
       "array([[-0.53199685, -0.12259794],\n",
       "       [ 0.11756806,  0.15512497],\n",
       "       [ 0.54083981, -0.34943025],\n",
       "       [ 0.20122644,  0.6845007 ],\n",
       "       [ 0.55228266, -0.36039449],\n",
       "       [-0.53700517, -0.12435355],\n",
       "       [ 0.20383965,  0.69989268],\n",
       "       [ 0.52547875, -0.33448802],\n",
       "       [-0.52711606, -0.1210643 ],\n",
       "       [-0.54511728, -0.12718979]])"
      ]
     },
     "execution_count": 107,
     "metadata": {},
     "output_type": "execute_result"
    }
   ],
   "source": [
    "pca_ouput"
   ]
  },
  {
   "cell_type": "code",
   "execution_count": 108,
   "metadata": {},
   "outputs": [],
   "source": [
    "import pandas as pd\n",
    "data=pd.DataFrame(pca_ouput)"
   ]
  },
  {
   "cell_type": "code",
   "execution_count": 109,
   "metadata": {},
   "outputs": [
    {
     "data": {
      "text/html": [
       "<div>\n",
       "<style scoped>\n",
       "    .dataframe tbody tr th:only-of-type {\n",
       "        vertical-align: middle;\n",
       "    }\n",
       "\n",
       "    .dataframe tbody tr th {\n",
       "        vertical-align: top;\n",
       "    }\n",
       "\n",
       "    .dataframe thead th {\n",
       "        text-align: right;\n",
       "    }\n",
       "</style>\n",
       "<table border=\"1\" class=\"dataframe\">\n",
       "  <thead>\n",
       "    <tr style=\"text-align: right;\">\n",
       "      <th></th>\n",
       "      <th>0</th>\n",
       "      <th>1</th>\n",
       "    </tr>\n",
       "  </thead>\n",
       "  <tbody>\n",
       "    <tr>\n",
       "      <th>0</th>\n",
       "      <td>-0.531997</td>\n",
       "      <td>-0.122598</td>\n",
       "    </tr>\n",
       "    <tr>\n",
       "      <th>1</th>\n",
       "      <td>0.117568</td>\n",
       "      <td>0.155125</td>\n",
       "    </tr>\n",
       "    <tr>\n",
       "      <th>2</th>\n",
       "      <td>0.540840</td>\n",
       "      <td>-0.349430</td>\n",
       "    </tr>\n",
       "    <tr>\n",
       "      <th>3</th>\n",
       "      <td>0.201226</td>\n",
       "      <td>0.684501</td>\n",
       "    </tr>\n",
       "    <tr>\n",
       "      <th>4</th>\n",
       "      <td>0.552283</td>\n",
       "      <td>-0.360394</td>\n",
       "    </tr>\n",
       "  </tbody>\n",
       "</table>\n",
       "</div>"
      ],
      "text/plain": [
       "          0         1\n",
       "0 -0.531997 -0.122598\n",
       "1  0.117568  0.155125\n",
       "2  0.540840 -0.349430\n",
       "3  0.201226  0.684501\n",
       "4  0.552283 -0.360394"
      ]
     },
     "execution_count": 109,
     "metadata": {},
     "output_type": "execute_result"
    }
   ],
   "source": [
    "data.head()"
   ]
  },
  {
   "cell_type": "code",
   "execution_count": 110,
   "metadata": {},
   "outputs": [],
   "source": [
    "data.columns=['first','second']"
   ]
  },
  {
   "cell_type": "markdown",
   "metadata": {},
   "source": [
    "# K-MEANS CLUSTERING ALGORITHM"
   ]
  },
  {
   "cell_type": "code",
   "execution_count": 112,
   "metadata": {},
   "outputs": [
    {
     "data": {
      "text/plain": [
       "<seaborn.axisgrid.FacetGrid at 0x1df93aca898>"
      ]
     },
     "execution_count": 112,
     "metadata": {},
     "output_type": "execute_result"
    },
    {
     "data": {
      "image/png": "[encoded data removed]",
      "text/plain": [
       "<Figure size 402.375x360 with 1 Axes>"
      ]
     },
     "metadata": {
      "needs_background": "light"
     },
     "output_type": "display_data"
    }
   ],
   "source": [
    "from sklearn.cluster import KMeans\n",
    "cluster_new = KMeans(8)\n",
    "cluster_new.fit(pca_ouput)\n",
    "data['label']=cluster_new.labels_\n",
    "import seaborn as sb\n",
    "sb.lmplot(x='first',y='second',hue = 'label',data=data,fit_reg=False,)"
   ]
  },
  {
   "cell_type": "markdown",
   "metadata": {},
   "source": [
    "# SCENARIO 2: CONCLUSION\n",
    "    # It can thus be concluded, From the above cluster it is noted that the cluster indicates relevant tweets. \n",
    "    However, it is also noted that this may/may not change depending on the tweets and type of tweets."
   ]
  },
  {
   "cell_type": "markdown",
   "metadata": {},
   "source": [
    "# I am now adding additional Features, I will be adding a different theme for Jupyter Notebook."
   ]
  },
  {
   "cell_type": "code",
   "execution_count": 113,
   "metadata": {},
   "outputs": [
    {
     "name": "stdout",
     "output_type": "stream",
     "text": [
      "Collecting jupyterthemes\n",
      "  Using cached https://files.pythonhosted.org/packages/8a/08/9dee6dfd7f2aad6c30282d55c8f495b4dc1e4747b4e2bdbeb80572ddf312/jupyterthemes-0.20.0-py2.py3-none-any.whl\n",
      "Requirement already satisfied: matplotlib>=1.4.3 in c:\\users\\sumanth\\anaconda3\\lib\\site-packages (from jupyterthemes) (3.0.3)\n",
      "Requirement already satisfied: ipython>=5.4.1 in c:\\users\\sumanth\\anaconda3\\lib\\site-packages (from jupyterthemes) (7.4.0)\n",
      "Requirement already satisfied: notebook>=5.6.0 in c:\\users\\sumanth\\anaconda3\\lib\\site-packages (from jupyterthemes) (5.7.8)\n",
      "Requirement already satisfied: jupyter-core in c:\\users\\sumanth\\anaconda3\\lib\\site-packages (from jupyterthemes) (4.4.0)\n",
      "Collecting lesscpy>=0.11.2 (from jupyterthemes)\n",
      "  Using cached https://files.pythonhosted.org/packages/f8/d2/665cda6614e3556eaeb7553a3a2963624c2e3bc9636777a1bb654b87b027/lesscpy-0.14.0-py2.py3-none-any.whl\n",
      "Requirement already satisfied: numpy>=1.10.0 in c:\\users\\sumanth\\anaconda3\\lib\\site-packages (from matplotlib>=1.4.3->jupyterthemes) (1.16.2)\n",
      "Requirement already satisfied: cycler>=0.10 in c:\\users\\sumanth\\anaconda3\\lib\\site-packages (from matplotlib>=1.4.3->jupyterthemes) (0.10.0)\n",
      "Requirement already satisfied: kiwisolver>=1.0.1 in c:\\users\\sumanth\\anaconda3\\lib\\site-packages (from matplotlib>=1.4.3->jupyterthemes) (1.0.1)\n",
      "Requirement already satisfied: pyparsing!=2.0.4,!=2.1.2,!=2.1.6,>=2.0.1 in c:\\users\\sumanth\\anaconda3\\lib\\site-packages (from matplotlib>=1.4.3->jupyterthemes) (2.3.1)\n",
      "Requirement already satisfied: python-dateutil>=2.1 in c:\\users\\sumanth\\anaconda3\\lib\\site-packages (from matplotlib>=1.4.3->jupyterthemes) (2.8.0)\n",
      "Requirement already satisfied: colorama; sys_platform == \"win32\" in c:\\users\\sumanth\\anaconda3\\lib\\site-packages (from ipython>=5.4.1->jupyterthemes) (0.4.1)\n",
      "Requirement already satisfied: traitlets>=4.2 in c:\\users\\sumanth\\anaconda3\\lib\\site-packages (from ipython>=5.4.1->jupyterthemes) (4.3.2)\n",
      "Requirement already satisfied: prompt-toolkit<2.1.0,>=2.0.0 in c:\\users\\sumanth\\anaconda3\\lib\\site-packages (from ipython>=5.4.1->jupyterthemes) (2.0.9)\n",
      "Requirement already satisfied: pickleshare in c:\\users\\sumanth\\anaconda3\\lib\\site-packages (from ipython>=5.4.1->jupyterthemes) (0.7.5)\n",
      "Requirement already satisfied: setuptools>=18.5 in c:\\users\\sumanth\\anaconda3\\lib\\site-packages (from ipython>=5.4.1->jupyterthemes) (40.8.0)\n",
      "Requirement already satisfied: jedi>=0.10 in c:\\users\\sumanth\\anaconda3\\lib\\site-packages (from ipython>=5.4.1->jupyterthemes) (0.13.3)\n",
      "Requirement already satisfied: decorator in c:\\users\\sumanth\\anaconda3\\lib\\site-packages (from ipython>=5.4.1->jupyterthemes) (4.4.0)\n",
      "Requirement already satisfied: backcall in c:\\users\\sumanth\\anaconda3\\lib\\site-packages (from ipython>=5.4.1->jupyterthemes) (0.1.0)\n",
      "Requirement already satisfied: pygments in c:\\users\\sumanth\\anaconda3\\lib\\site-packages (from ipython>=5.4.1->jupyterthemes) (2.3.1)\n",
      "Requirement already satisfied: jupyter-client>=5.2.0 in c:\\users\\sumanth\\anaconda3\\lib\\site-packages (from notebook>=5.6.0->jupyterthemes) (5.2.4)\n",
      "Requirement already satisfied: nbconvert in c:\\users\\sumanth\\anaconda3\\lib\\site-packages (from notebook>=5.6.0->jupyterthemes) (5.4.1)\n",
      "Requirement already satisfied: jinja2 in c:\\users\\sumanth\\anaconda3\\lib\\site-packages (from notebook>=5.6.0->jupyterthemes) (2.10)\n",
      "Requirement already satisfied: pyzmq>=17 in c:\\users\\sumanth\\anaconda3\\lib\\site-packages (from notebook>=5.6.0->jupyterthemes) (18.0.0)\n",
      "Requirement already satisfied: prometheus-client in c:\\users\\sumanth\\anaconda3\\lib\\site-packages (from notebook>=5.6.0->jupyterthemes) (0.6.0)\n",
      "Requirement already satisfied: Send2Trash in c:\\users\\sumanth\\anaconda3\\lib\\site-packages (from notebook>=5.6.0->jupyterthemes) (1.5.0)\n",
      "Requirement already satisfied: tornado<7,>=4.1 in c:\\users\\sumanth\\anaconda3\\lib\\site-packages (from notebook>=5.6.0->jupyterthemes) (6.0.2)\n",
      "Requirement already satisfied: terminado>=0.8.1 in c:\\users\\sumanth\\anaconda3\\lib\\site-packages (from notebook>=5.6.0->jupyterthemes) (0.8.1)\n",
      "Requirement already satisfied: ipykernel in c:\\users\\sumanth\\anaconda3\\lib\\site-packages (from notebook>=5.6.0->jupyterthemes) (5.1.0)\n",
      "Requirement already satisfied: nbformat in c:\\users\\sumanth\\anaconda3\\lib\\site-packages (from notebook>=5.6.0->jupyterthemes) (4.4.0)\n",
      "Requirement already satisfied: ipython-genutils in c:\\users\\sumanth\\anaconda3\\lib\\site-packages (from notebook>=5.6.0->jupyterthemes) (0.2.0)\n",
      "Requirement already satisfied: six in c:\\users\\sumanth\\anaconda3\\lib\\site-packages (from lesscpy>=0.11.2->jupyterthemes) (1.12.0)\n",
      "Requirement already satisfied: ply in c:\\users\\sumanth\\anaconda3\\lib\\site-packages (from lesscpy>=0.11.2->jupyterthemes) (3.11)\n",
      "Requirement already satisfied: wcwidth in c:\\users\\sumanth\\anaconda3\\lib\\site-packages (from prompt-toolkit<2.1.0,>=2.0.0->ipython>=5.4.1->jupyterthemes) (0.1.7)\n",
      "Requirement already satisfied: parso>=0.3.0 in c:\\users\\sumanth\\anaconda3\\lib\\site-packages (from jedi>=0.10->ipython>=5.4.1->jupyterthemes) (0.3.4)\n",
      "Requirement already satisfied: mistune>=0.8.1 in c:\\users\\sumanth\\anaconda3\\lib\\site-packages (from nbconvert->notebook>=5.6.0->jupyterthemes) (0.8.4)\n",
      "Requirement already satisfied: entrypoints>=0.2.2 in c:\\users\\sumanth\\anaconda3\\lib\\site-packages (from nbconvert->notebook>=5.6.0->jupyterthemes) (0.3)\n",
      "Requirement already satisfied: bleach in c:\\users\\sumanth\\anaconda3\\lib\\site-packages (from nbconvert->notebook>=5.6.0->jupyterthemes) (3.1.0)\n",
      "Requirement already satisfied: pandocfilters>=1.4.1 in c:\\users\\sumanth\\anaconda3\\lib\\site-packages (from nbconvert->notebook>=5.6.0->jupyterthemes) (1.4.2)\n",
      "Requirement already satisfied: testpath in c:\\users\\sumanth\\anaconda3\\lib\\site-packages (from nbconvert->notebook>=5.6.0->jupyterthemes) (0.4.2)\n",
      "Requirement already satisfied: defusedxml in c:\\users\\sumanth\\anaconda3\\lib\\site-packages (from nbconvert->notebook>=5.6.0->jupyterthemes) (0.5.0)\n",
      "Requirement already satisfied: MarkupSafe>=0.23 in c:\\users\\sumanth\\anaconda3\\lib\\site-packages (from jinja2->notebook>=5.6.0->jupyterthemes) (1.1.1)\n",
      "Requirement already satisfied: jsonschema!=2.5.0,>=2.4 in c:\\users\\sumanth\\anaconda3\\lib\\site-packages (from nbformat->notebook>=5.6.0->jupyterthemes) (3.0.1)\n",
      "Requirement already satisfied: webencodings in c:\\users\\sumanth\\anaconda3\\lib\\site-packages (from bleach->nbconvert->notebook>=5.6.0->jupyterthemes) (0.5.1)\n",
      "Requirement already satisfied: attrs>=17.4.0 in c:\\users\\sumanth\\anaconda3\\lib\\site-packages (from jsonschema!=2.5.0,>=2.4->nbformat->notebook>=5.6.0->jupyterthemes) (19.1.0)\n",
      "Requirement already satisfied: pyrsistent>=0.14.0 in c:\\users\\sumanth\\anaconda3\\lib\\site-packages (from jsonschema!=2.5.0,>=2.4->nbformat->notebook>=5.6.0->jupyterthemes) (0.14.11)\n",
      "Installing collected packages: lesscpy, jupyterthemes\n",
      "Successfully installed jupyterthemes-0.20.0 lesscpy-0.14.0\n",
      "Note: you may need to restart the kernel to use updated packages.\n"
     ]
    }
   ],
   "source": [
    "pip install jupyterthemes"
   ]
  },
  {
   "cell_type": "code",
   "execution_count": 117,
   "metadata": {},
   "outputs": [],
   "source": [
    "! jt -t monokai"
   ]
  },
  {
   "cell_type": "code",
   "execution_count": null,
   "metadata": {},
   "outputs": [],
   "source": []
  }
 ],
 "metadata": {
  "kernelspec": {
   "display_name": "Python 3",
   "language": "python",
   "name": "python3"
  },
  "language_info": {
   "codemirror_mode": {
    "name": "ipython",
    "version": 3
   },
   "file_extension": ".py",
   "mimetype": "text/x-python",
   "name": "python",
   "nbconvert_exporter": "python",
   "pygments_lexer": "ipython3",
   "version": "3.7.3"
  }
 },
 "nbformat": 4,
 "nbformat_minor": 2
}
